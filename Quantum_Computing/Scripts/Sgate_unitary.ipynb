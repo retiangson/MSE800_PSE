{
 "cells": [
  {
   "cell_type": "code",
   "execution_count": 6,
   "id": "4ae47448-9ea5-44e3-9dd2-a3ee7abbaabe",
   "metadata": {},
   "outputs": [
    {
     "name": "stdout",
     "output_type": "stream",
     "text": [
      "Circuit:\n",
      "0: ───S───\n",
      "\n",
      "Unitary matrix of S gate:\n",
      "[[1.+0.j 0.+0.j]\n",
      " [0.+0.j 0.+1.j]]\n"
     ]
    }
   ],
   "source": [
    "import cirq\n",
    "\n",
    "# Define a qubit\n",
    "qubit = cirq.LineQubit(0)\n",
    "\n",
    "# Define the S gate\n",
    "s_gate = cirq.S(qubit)\n",
    "\n",
    "# Create a circuit and append the S gate to it\n",
    "circuit = cirq.Circuit()\n",
    "circuit.append(s_gate)\n",
    "\n",
    "# Display the circuit\n",
    "print(\"Circuit:\")\n",
    "print(circuit)\n",
    "\n",
    "# Get the unitary matrix of the S gate\n",
    "unitary_matrix = cirq.unitary(s_gate)\n",
    "\n",
    "# Print the unitary matrix\n",
    "print(\"\\nUnitary matrix of S gate:\")\n",
    "print(unitary_matrix)\n"
   ]
  },
  {
   "cell_type": "code",
   "execution_count": null,
   "id": "9de75d3b-8039-43e7-acd4-4eb5567efce9",
   "metadata": {},
   "outputs": [],
   "source": []
  }
 ],
 "metadata": {
  "kernelspec": {
   "display_name": "Python 3 (ipykernel)",
   "language": "python",
   "name": "python3"
  },
  "language_info": {
   "codemirror_mode": {
    "name": "ipython",
    "version": 3
   },
   "file_extension": ".py",
   "mimetype": "text/x-python",
   "name": "python",
   "nbconvert_exporter": "python",
   "pygments_lexer": "ipython3",
   "version": "3.12.3"
  }
 },
 "nbformat": 4,
 "nbformat_minor": 5
}
