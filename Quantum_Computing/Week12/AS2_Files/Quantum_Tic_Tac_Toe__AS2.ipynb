{
  "nbformat": 4,
  "nbformat_minor": 0,
  "metadata": {
    "colab": {
      "provenance": []
    },
    "kernelspec": {
      "name": "python3",
      "display_name": "Python 3"
    },
    "widgets": {
      "application/vnd.jupyter.widget-state+json": {
        "024d8c9383374b4788b942cb9c524da9": {
          "model_module": "@jupyter-widgets/controls",
          "model_name": "ButtonModel",
          "model_module_version": "1.5.0",
          "state": {
            "_dom_classes": [],
            "_model_module": "@jupyter-widgets/controls",
            "_model_module_version": "1.5.0",
            "_model_name": "ButtonModel",
            "_view_count": null,
            "_view_module": "@jupyter-widgets/controls",
            "_view_module_version": "1.5.0",
            "_view_name": "ButtonView",
            "button_style": "",
            "description": "Measure",
            "disabled": false,
            "icon": "",
            "layout": "IPY_MODEL_10124dad048a46a581e431849f39136b",
            "style": "IPY_MODEL_b982e2c8b07445a4a9ec0f74d3dd77ff",
            "tooltip": ""
          }
        },
        "10124dad048a46a581e431849f39136b": {
          "model_module": "@jupyter-widgets/base",
          "model_name": "LayoutModel",
          "model_module_version": "1.2.0",
          "state": {
            "_model_module": "@jupyter-widgets/base",
            "_model_module_version": "1.2.0",
            "_model_name": "LayoutModel",
            "_view_count": null,
            "_view_module": "@jupyter-widgets/base",
            "_view_module_version": "1.2.0",
            "_view_name": "LayoutView",
            "align_content": null,
            "align_items": null,
            "align_self": null,
            "border": null,
            "bottom": null,
            "display": null,
            "flex": null,
            "flex_flow": null,
            "grid_area": null,
            "grid_auto_columns": null,
            "grid_auto_flow": null,
            "grid_auto_rows": null,
            "grid_column": null,
            "grid_gap": null,
            "grid_row": null,
            "grid_template_areas": null,
            "grid_template_columns": null,
            "grid_template_rows": null,
            "height": "30px",
            "justify_content": null,
            "justify_items": null,
            "left": null,
            "margin": null,
            "max_height": null,
            "max_width": null,
            "min_height": null,
            "min_width": null,
            "object_fit": null,
            "object_position": null,
            "order": null,
            "overflow": null,
            "overflow_x": null,
            "overflow_y": null,
            "padding": null,
            "right": null,
            "top": null,
            "visibility": null,
            "width": "86px"
          }
        },
        "b982e2c8b07445a4a9ec0f74d3dd77ff": {
          "model_module": "@jupyter-widgets/controls",
          "model_name": "ButtonStyleModel",
          "model_module_version": "1.5.0",
          "state": {
            "_model_module": "@jupyter-widgets/controls",
            "_model_module_version": "1.5.0",
            "_model_name": "ButtonStyleModel",
            "_view_count": null,
            "_view_module": "@jupyter-widgets/base",
            "_view_module_version": "1.2.0",
            "_view_name": "StyleView",
            "button_color": null,
            "font_weight": ""
          }
        },
        "8a6d21817efc4dcd8f06e8817218072d": {
          "model_module": "@jupyter-widgets/controls",
          "model_name": "ButtonModel",
          "model_module_version": "1.5.0",
          "state": {
            "_dom_classes": [],
            "_model_module": "@jupyter-widgets/controls",
            "_model_module_version": "1.5.0",
            "_model_name": "ButtonModel",
            "_view_count": null,
            "_view_module": "@jupyter-widgets/controls",
            "_view_module_version": "1.5.0",
            "_view_name": "ButtonView",
            "button_style": "",
            "description": "Not",
            "disabled": false,
            "icon": "",
            "layout": "IPY_MODEL_fef9827a51a24baea01b8bb8f66066c1",
            "style": "IPY_MODEL_e606d64e02384289afa482a780602cfa",
            "tooltip": ""
          }
        },
        "fef9827a51a24baea01b8bb8f66066c1": {
          "model_module": "@jupyter-widgets/base",
          "model_name": "LayoutModel",
          "model_module_version": "1.2.0",
          "state": {
            "_model_module": "@jupyter-widgets/base",
            "_model_module_version": "1.2.0",
            "_model_name": "LayoutModel",
            "_view_count": null,
            "_view_module": "@jupyter-widgets/base",
            "_view_module_version": "1.2.0",
            "_view_name": "LayoutView",
            "align_content": null,
            "align_items": null,
            "align_self": null,
            "border": null,
            "bottom": null,
            "display": null,
            "flex": null,
            "flex_flow": null,
            "grid_area": null,
            "grid_auto_columns": null,
            "grid_auto_flow": null,
            "grid_auto_rows": null,
            "grid_column": null,
            "grid_gap": null,
            "grid_row": null,
            "grid_template_areas": null,
            "grid_template_columns": null,
            "grid_template_rows": null,
            "height": "30px",
            "justify_content": null,
            "justify_items": null,
            "left": null,
            "margin": null,
            "max_height": null,
            "max_width": null,
            "min_height": null,
            "min_width": null,
            "object_fit": null,
            "object_position": null,
            "order": null,
            "overflow": null,
            "overflow_x": null,
            "overflow_y": null,
            "padding": null,
            "right": null,
            "top": null,
            "visibility": null,
            "width": "86px"
          }
        },
        "e606d64e02384289afa482a780602cfa": {
          "model_module": "@jupyter-widgets/controls",
          "model_name": "ButtonStyleModel",
          "model_module_version": "1.5.0",
          "state": {
            "_model_module": "@jupyter-widgets/controls",
            "_model_module_version": "1.5.0",
            "_model_name": "ButtonStyleModel",
            "_view_count": null,
            "_view_module": "@jupyter-widgets/base",
            "_view_module_version": "1.2.0",
            "_view_name": "StyleView",
            "button_color": null,
            "font_weight": ""
          }
        },
        "da7441fd09b047cfa101e5e129666de0": {
          "model_module": "@jupyter-widgets/controls",
          "model_name": "ButtonModel",
          "model_module_version": "1.5.0",
          "state": {
            "_dom_classes": [],
            "_model_module": "@jupyter-widgets/controls",
            "_model_module_version": "1.5.0",
            "_model_name": "ButtonModel",
            "_view_count": null,
            "_view_module": "@jupyter-widgets/controls",
            "_view_module_version": "1.5.0",
            "_view_name": "ButtonView",
            "button_style": "",
            "description": "O",
            "disabled": false,
            "icon": "",
            "layout": "IPY_MODEL_9f82a1399ab14f798401f723f8b15b54",
            "style": "IPY_MODEL_43c49364c95b4f948b60453fe54ea41c",
            "tooltip": ""
          }
        },
        "9f82a1399ab14f798401f723f8b15b54": {
          "model_module": "@jupyter-widgets/base",
          "model_name": "LayoutModel",
          "model_module_version": "1.2.0",
          "state": {
            "_model_module": "@jupyter-widgets/base",
            "_model_module_version": "1.2.0",
            "_model_name": "LayoutModel",
            "_view_count": null,
            "_view_module": "@jupyter-widgets/base",
            "_view_module_version": "1.2.0",
            "_view_name": "LayoutView",
            "align_content": null,
            "align_items": null,
            "align_self": null,
            "border": null,
            "bottom": null,
            "display": null,
            "flex": null,
            "flex_flow": null,
            "grid_area": null,
            "grid_auto_columns": null,
            "grid_auto_flow": null,
            "grid_auto_rows": null,
            "grid_column": null,
            "grid_gap": null,
            "grid_row": null,
            "grid_template_areas": null,
            "grid_template_columns": null,
            "grid_template_rows": null,
            "height": "30px",
            "justify_content": null,
            "justify_items": null,
            "left": null,
            "margin": null,
            "max_height": null,
            "max_width": null,
            "min_height": null,
            "min_width": null,
            "object_fit": null,
            "object_position": null,
            "order": null,
            "overflow": null,
            "overflow_x": null,
            "overflow_y": null,
            "padding": null,
            "right": null,
            "top": null,
            "visibility": null,
            "width": "86px"
          }
        },
        "43c49364c95b4f948b60453fe54ea41c": {
          "model_module": "@jupyter-widgets/controls",
          "model_name": "ButtonStyleModel",
          "model_module_version": "1.5.0",
          "state": {
            "_model_module": "@jupyter-widgets/controls",
            "_model_module_version": "1.5.0",
            "_model_name": "ButtonStyleModel",
            "_view_count": null,
            "_view_module": "@jupyter-widgets/base",
            "_view_module_version": "1.2.0",
            "_view_name": "StyleView",
            "button_color": null,
            "font_weight": ""
          }
        },
        "61e24c2476e84d41b380cd5367cafc21": {
          "model_module": "@jupyter-widgets/controls",
          "model_name": "ButtonModel",
          "model_module_version": "1.5.0",
          "state": {
            "_dom_classes": [],
            "_model_module": "@jupyter-widgets/controls",
            "_model_module_version": "1.5.0",
            "_model_name": "ButtonModel",
            "_view_count": null,
            "_view_module": "@jupyter-widgets/controls",
            "_view_module_version": "1.5.0",
            "_view_name": "ButtonView",
            "button_style": "",
            "description": "X",
            "disabled": false,
            "icon": "",
            "layout": "IPY_MODEL_d2878d86f987445aa70568b9fc994767",
            "style": "IPY_MODEL_f5df33069a784093a2802656703b546c",
            "tooltip": ""
          }
        },
        "d2878d86f987445aa70568b9fc994767": {
          "model_module": "@jupyter-widgets/base",
          "model_name": "LayoutModel",
          "model_module_version": "1.2.0",
          "state": {
            "_model_module": "@jupyter-widgets/base",
            "_model_module_version": "1.2.0",
            "_model_name": "LayoutModel",
            "_view_count": null,
            "_view_module": "@jupyter-widgets/base",
            "_view_module_version": "1.2.0",
            "_view_name": "LayoutView",
            "align_content": null,
            "align_items": null,
            "align_self": null,
            "border": null,
            "bottom": null,
            "display": null,
            "flex": null,
            "flex_flow": null,
            "grid_area": null,
            "grid_auto_columns": null,
            "grid_auto_flow": null,
            "grid_auto_rows": null,
            "grid_column": null,
            "grid_gap": null,
            "grid_row": null,
            "grid_template_areas": null,
            "grid_template_columns": null,
            "grid_template_rows": null,
            "height": "30px",
            "justify_content": null,
            "justify_items": null,
            "left": null,
            "margin": null,
            "max_height": null,
            "max_width": null,
            "min_height": null,
            "min_width": null,
            "object_fit": null,
            "object_position": null,
            "order": null,
            "overflow": null,
            "overflow_x": null,
            "overflow_y": null,
            "padding": null,
            "right": null,
            "top": null,
            "visibility": null,
            "width": "86px"
          }
        },
        "f5df33069a784093a2802656703b546c": {
          "model_module": "@jupyter-widgets/controls",
          "model_name": "ButtonStyleModel",
          "model_module_version": "1.5.0",
          "state": {
            "_model_module": "@jupyter-widgets/controls",
            "_model_module_version": "1.5.0",
            "_model_name": "ButtonStyleModel",
            "_view_count": null,
            "_view_module": "@jupyter-widgets/base",
            "_view_module_version": "1.2.0",
            "_view_name": "StyleView",
            "button_color": null,
            "font_weight": ""
          }
        },
        "820fb2a19f8c4bf28b4fcd262197b387": {
          "model_module": "@jupyter-widgets/controls",
          "model_name": "ButtonModel",
          "model_module_version": "1.5.0",
          "state": {
            "_dom_classes": [],
            "_model_module": "@jupyter-widgets/controls",
            "_model_module_version": "1.5.0",
            "_model_name": "ButtonModel",
            "_view_count": null,
            "_view_module": "@jupyter-widgets/controls",
            "_view_module_version": "1.5.0",
            "_view_name": "ButtonView",
            "button_style": "",
            "description": "SWAP",
            "disabled": false,
            "icon": "",
            "layout": "IPY_MODEL_4e98be3a124343ccb945bce44886e5dd",
            "style": "IPY_MODEL_07d758eb22934bd7bc70ec7ea529248a",
            "tooltip": ""
          }
        },
        "4e98be3a124343ccb945bce44886e5dd": {
          "model_module": "@jupyter-widgets/base",
          "model_name": "LayoutModel",
          "model_module_version": "1.2.0",
          "state": {
            "_model_module": "@jupyter-widgets/base",
            "_model_module_version": "1.2.0",
            "_model_name": "LayoutModel",
            "_view_count": null,
            "_view_module": "@jupyter-widgets/base",
            "_view_module_version": "1.2.0",
            "_view_name": "LayoutView",
            "align_content": null,
            "align_items": null,
            "align_self": null,
            "border": null,
            "bottom": null,
            "display": null,
            "flex": null,
            "flex_flow": null,
            "grid_area": null,
            "grid_auto_columns": null,
            "grid_auto_flow": null,
            "grid_auto_rows": null,
            "grid_column": null,
            "grid_gap": null,
            "grid_row": null,
            "grid_template_areas": null,
            "grid_template_columns": null,
            "grid_template_rows": null,
            "height": "30px",
            "justify_content": null,
            "justify_items": null,
            "left": null,
            "margin": null,
            "max_height": null,
            "max_width": null,
            "min_height": null,
            "min_width": null,
            "object_fit": null,
            "object_position": null,
            "order": null,
            "overflow": null,
            "overflow_x": null,
            "overflow_y": null,
            "padding": null,
            "right": null,
            "top": null,
            "visibility": null,
            "width": "86px"
          }
        },
        "07d758eb22934bd7bc70ec7ea529248a": {
          "model_module": "@jupyter-widgets/controls",
          "model_name": "ButtonStyleModel",
          "model_module_version": "1.5.0",
          "state": {
            "_model_module": "@jupyter-widgets/controls",
            "_model_module_version": "1.5.0",
            "_model_name": "ButtonStyleModel",
            "_view_count": null,
            "_view_module": "@jupyter-widgets/base",
            "_view_module_version": "1.2.0",
            "_view_name": "StyleView",
            "button_color": null,
            "font_weight": ""
          }
        },
        "5b6aaf6f1e00475b825a83296119167a": {
          "model_module": "@jupyter-widgets/controls",
          "model_name": "ButtonModel",
          "model_module_version": "1.5.0",
          "state": {
            "_dom_classes": [],
            "_model_module": "@jupyter-widgets/controls",
            "_model_module_version": "1.5.0",
            "_model_name": "ButtonModel",
            "_view_count": null,
            "_view_module": "@jupyter-widgets/controls",
            "_view_module_version": "1.5.0",
            "_view_name": "ButtonView",
            "button_style": "",
            "description": "0",
            "disabled": false,
            "icon": "",
            "layout": "IPY_MODEL_306e49eaa70846029e862302dac1d298",
            "style": "IPY_MODEL_3101a4c144aa4c8fbd2bd059d6cbcb14",
            "tooltip": ""
          }
        },
        "306e49eaa70846029e862302dac1d298": {
          "model_module": "@jupyter-widgets/base",
          "model_name": "LayoutModel",
          "model_module_version": "1.2.0",
          "state": {
            "_model_module": "@jupyter-widgets/base",
            "_model_module_version": "1.2.0",
            "_model_name": "LayoutModel",
            "_view_count": null,
            "_view_module": "@jupyter-widgets/base",
            "_view_module_version": "1.2.0",
            "_view_name": "LayoutView",
            "align_content": null,
            "align_items": null,
            "align_self": null,
            "border": null,
            "bottom": null,
            "display": null,
            "flex": null,
            "flex_flow": null,
            "grid_area": null,
            "grid_auto_columns": null,
            "grid_auto_flow": null,
            "grid_auto_rows": null,
            "grid_column": null,
            "grid_gap": null,
            "grid_row": null,
            "grid_template_areas": null,
            "grid_template_columns": null,
            "grid_template_rows": null,
            "height": null,
            "justify_content": null,
            "justify_items": null,
            "left": null,
            "margin": null,
            "max_height": null,
            "max_width": null,
            "min_height": null,
            "min_width": null,
            "object_fit": null,
            "object_position": null,
            "order": null,
            "overflow": null,
            "overflow_x": null,
            "overflow_y": null,
            "padding": null,
            "right": null,
            "top": null,
            "visibility": null,
            "width": null
          }
        },
        "3101a4c144aa4c8fbd2bd059d6cbcb14": {
          "model_module": "@jupyter-widgets/controls",
          "model_name": "ButtonStyleModel",
          "model_module_version": "1.5.0",
          "state": {
            "_model_module": "@jupyter-widgets/controls",
            "_model_module_version": "1.5.0",
            "_model_name": "ButtonStyleModel",
            "_view_count": null,
            "_view_module": "@jupyter-widgets/base",
            "_view_module_version": "1.2.0",
            "_view_name": "StyleView",
            "button_color": null,
            "font_weight": ""
          }
        },
        "5db570122113404a9015d23a1a825c06": {
          "model_module": "@jupyter-widgets/controls",
          "model_name": "ButtonModel",
          "model_module_version": "1.5.0",
          "state": {
            "_dom_classes": [],
            "_model_module": "@jupyter-widgets/controls",
            "_model_module_version": "1.5.0",
            "_model_name": "ButtonModel",
            "_view_count": null,
            "_view_module": "@jupyter-widgets/controls",
            "_view_module_version": "1.5.0",
            "_view_name": "ButtonView",
            "button_style": "",
            "description": "1",
            "disabled": false,
            "icon": "",
            "layout": "IPY_MODEL_ba0dc7270fd6481fb41afbb58e9c631b",
            "style": "IPY_MODEL_83ef907714d44c5a8a3daf1d7a817863",
            "tooltip": ""
          }
        },
        "ba0dc7270fd6481fb41afbb58e9c631b": {
          "model_module": "@jupyter-widgets/base",
          "model_name": "LayoutModel",
          "model_module_version": "1.2.0",
          "state": {
            "_model_module": "@jupyter-widgets/base",
            "_model_module_version": "1.2.0",
            "_model_name": "LayoutModel",
            "_view_count": null,
            "_view_module": "@jupyter-widgets/base",
            "_view_module_version": "1.2.0",
            "_view_name": "LayoutView",
            "align_content": null,
            "align_items": null,
            "align_self": null,
            "border": null,
            "bottom": null,
            "display": null,
            "flex": null,
            "flex_flow": null,
            "grid_area": null,
            "grid_auto_columns": null,
            "grid_auto_flow": null,
            "grid_auto_rows": null,
            "grid_column": null,
            "grid_gap": null,
            "grid_row": null,
            "grid_template_areas": null,
            "grid_template_columns": null,
            "grid_template_rows": null,
            "height": null,
            "justify_content": null,
            "justify_items": null,
            "left": null,
            "margin": null,
            "max_height": null,
            "max_width": null,
            "min_height": null,
            "min_width": null,
            "object_fit": null,
            "object_position": null,
            "order": null,
            "overflow": null,
            "overflow_x": null,
            "overflow_y": null,
            "padding": null,
            "right": null,
            "top": null,
            "visibility": null,
            "width": null
          }
        },
        "83ef907714d44c5a8a3daf1d7a817863": {
          "model_module": "@jupyter-widgets/controls",
          "model_name": "ButtonStyleModel",
          "model_module_version": "1.5.0",
          "state": {
            "_model_module": "@jupyter-widgets/controls",
            "_model_module_version": "1.5.0",
            "_model_name": "ButtonStyleModel",
            "_view_count": null,
            "_view_module": "@jupyter-widgets/base",
            "_view_module_version": "1.2.0",
            "_view_name": "StyleView",
            "button_color": null,
            "font_weight": ""
          }
        },
        "c413ffed9b7d49319f29fbf1c0655b51": {
          "model_module": "@jupyter-widgets/controls",
          "model_name": "ButtonModel",
          "model_module_version": "1.5.0",
          "state": {
            "_dom_classes": [],
            "_model_module": "@jupyter-widgets/controls",
            "_model_module_version": "1.5.0",
            "_model_name": "ButtonModel",
            "_view_count": null,
            "_view_module": "@jupyter-widgets/controls",
            "_view_module_version": "1.5.0",
            "_view_name": "ButtonView",
            "button_style": "",
            "description": "2",
            "disabled": false,
            "icon": "",
            "layout": "IPY_MODEL_4b3f3614900b4e5eb1fb500a53eef3f8",
            "style": "IPY_MODEL_40b4f76ba3ce44d283db338f1dd9d4c4",
            "tooltip": ""
          }
        },
        "4b3f3614900b4e5eb1fb500a53eef3f8": {
          "model_module": "@jupyter-widgets/base",
          "model_name": "LayoutModel",
          "model_module_version": "1.2.0",
          "state": {
            "_model_module": "@jupyter-widgets/base",
            "_model_module_version": "1.2.0",
            "_model_name": "LayoutModel",
            "_view_count": null,
            "_view_module": "@jupyter-widgets/base",
            "_view_module_version": "1.2.0",
            "_view_name": "LayoutView",
            "align_content": null,
            "align_items": null,
            "align_self": null,
            "border": null,
            "bottom": null,
            "display": null,
            "flex": null,
            "flex_flow": null,
            "grid_area": null,
            "grid_auto_columns": null,
            "grid_auto_flow": null,
            "grid_auto_rows": null,
            "grid_column": null,
            "grid_gap": null,
            "grid_row": null,
            "grid_template_areas": null,
            "grid_template_columns": null,
            "grid_template_rows": null,
            "height": null,
            "justify_content": null,
            "justify_items": null,
            "left": null,
            "margin": null,
            "max_height": null,
            "max_width": null,
            "min_height": null,
            "min_width": null,
            "object_fit": null,
            "object_position": null,
            "order": null,
            "overflow": null,
            "overflow_x": null,
            "overflow_y": null,
            "padding": null,
            "right": null,
            "top": null,
            "visibility": null,
            "width": null
          }
        },
        "40b4f76ba3ce44d283db338f1dd9d4c4": {
          "model_module": "@jupyter-widgets/controls",
          "model_name": "ButtonStyleModel",
          "model_module_version": "1.5.0",
          "state": {
            "_model_module": "@jupyter-widgets/controls",
            "_model_module_version": "1.5.0",
            "_model_name": "ButtonStyleModel",
            "_view_count": null,
            "_view_module": "@jupyter-widgets/base",
            "_view_module_version": "1.2.0",
            "_view_name": "StyleView",
            "button_color": null,
            "font_weight": ""
          }
        },
        "8dafc80e42044390ae7ecdd2f2f8e88a": {
          "model_module": "@jupyter-widgets/controls",
          "model_name": "ButtonModel",
          "model_module_version": "1.5.0",
          "state": {
            "_dom_classes": [],
            "_model_module": "@jupyter-widgets/controls",
            "_model_module_version": "1.5.0",
            "_model_name": "ButtonModel",
            "_view_count": null,
            "_view_module": "@jupyter-widgets/controls",
            "_view_module_version": "1.5.0",
            "_view_name": "ButtonView",
            "button_style": "",
            "description": "3",
            "disabled": false,
            "icon": "",
            "layout": "IPY_MODEL_e9b4302df6a240489cfcb518905d731a",
            "style": "IPY_MODEL_841627e138674d5c9dd47afb056bbf5a",
            "tooltip": ""
          }
        },
        "e9b4302df6a240489cfcb518905d731a": {
          "model_module": "@jupyter-widgets/base",
          "model_name": "LayoutModel",
          "model_module_version": "1.2.0",
          "state": {
            "_model_module": "@jupyter-widgets/base",
            "_model_module_version": "1.2.0",
            "_model_name": "LayoutModel",
            "_view_count": null,
            "_view_module": "@jupyter-widgets/base",
            "_view_module_version": "1.2.0",
            "_view_name": "LayoutView",
            "align_content": null,
            "align_items": null,
            "align_self": null,
            "border": null,
            "bottom": null,
            "display": null,
            "flex": null,
            "flex_flow": null,
            "grid_area": null,
            "grid_auto_columns": null,
            "grid_auto_flow": null,
            "grid_auto_rows": null,
            "grid_column": null,
            "grid_gap": null,
            "grid_row": null,
            "grid_template_areas": null,
            "grid_template_columns": null,
            "grid_template_rows": null,
            "height": null,
            "justify_content": null,
            "justify_items": null,
            "left": null,
            "margin": null,
            "max_height": null,
            "max_width": null,
            "min_height": null,
            "min_width": null,
            "object_fit": null,
            "object_position": null,
            "order": null,
            "overflow": null,
            "overflow_x": null,
            "overflow_y": null,
            "padding": null,
            "right": null,
            "top": null,
            "visibility": null,
            "width": null
          }
        },
        "841627e138674d5c9dd47afb056bbf5a": {
          "model_module": "@jupyter-widgets/controls",
          "model_name": "ButtonStyleModel",
          "model_module_version": "1.5.0",
          "state": {
            "_model_module": "@jupyter-widgets/controls",
            "_model_module_version": "1.5.0",
            "_model_name": "ButtonStyleModel",
            "_view_count": null,
            "_view_module": "@jupyter-widgets/base",
            "_view_module_version": "1.2.0",
            "_view_name": "StyleView",
            "button_color": null,
            "font_weight": ""
          }
        },
        "60b423fd0a3b45aab43155157c1f035e": {
          "model_module": "@jupyter-widgets/controls",
          "model_name": "ButtonModel",
          "model_module_version": "1.5.0",
          "state": {
            "_dom_classes": [],
            "_model_module": "@jupyter-widgets/controls",
            "_model_module_version": "1.5.0",
            "_model_name": "ButtonModel",
            "_view_count": null,
            "_view_module": "@jupyter-widgets/controls",
            "_view_module_version": "1.5.0",
            "_view_name": "ButtonView",
            "button_style": "",
            "description": "4",
            "disabled": false,
            "icon": "",
            "layout": "IPY_MODEL_6142a63cf43a48a0b6ddf187201efe61",
            "style": "IPY_MODEL_bb1a207fe3ed4838b5078a1204e3a3d6",
            "tooltip": ""
          }
        },
        "6142a63cf43a48a0b6ddf187201efe61": {
          "model_module": "@jupyter-widgets/base",
          "model_name": "LayoutModel",
          "model_module_version": "1.2.0",
          "state": {
            "_model_module": "@jupyter-widgets/base",
            "_model_module_version": "1.2.0",
            "_model_name": "LayoutModel",
            "_view_count": null,
            "_view_module": "@jupyter-widgets/base",
            "_view_module_version": "1.2.0",
            "_view_name": "LayoutView",
            "align_content": null,
            "align_items": null,
            "align_self": null,
            "border": null,
            "bottom": null,
            "display": null,
            "flex": null,
            "flex_flow": null,
            "grid_area": null,
            "grid_auto_columns": null,
            "grid_auto_flow": null,
            "grid_auto_rows": null,
            "grid_column": null,
            "grid_gap": null,
            "grid_row": null,
            "grid_template_areas": null,
            "grid_template_columns": null,
            "grid_template_rows": null,
            "height": null,
            "justify_content": null,
            "justify_items": null,
            "left": null,
            "margin": null,
            "max_height": null,
            "max_width": null,
            "min_height": null,
            "min_width": null,
            "object_fit": null,
            "object_position": null,
            "order": null,
            "overflow": null,
            "overflow_x": null,
            "overflow_y": null,
            "padding": null,
            "right": null,
            "top": null,
            "visibility": null,
            "width": null
          }
        },
        "bb1a207fe3ed4838b5078a1204e3a3d6": {
          "model_module": "@jupyter-widgets/controls",
          "model_name": "ButtonStyleModel",
          "model_module_version": "1.5.0",
          "state": {
            "_model_module": "@jupyter-widgets/controls",
            "_model_module_version": "1.5.0",
            "_model_name": "ButtonStyleModel",
            "_view_count": null,
            "_view_module": "@jupyter-widgets/base",
            "_view_module_version": "1.2.0",
            "_view_name": "StyleView",
            "button_color": null,
            "font_weight": ""
          }
        },
        "8cff04f6543e4d44a44952ea4f9e38b0": {
          "model_module": "@jupyter-widgets/controls",
          "model_name": "ButtonModel",
          "model_module_version": "1.5.0",
          "state": {
            "_dom_classes": [],
            "_model_module": "@jupyter-widgets/controls",
            "_model_module_version": "1.5.0",
            "_model_name": "ButtonModel",
            "_view_count": null,
            "_view_module": "@jupyter-widgets/controls",
            "_view_module_version": "1.5.0",
            "_view_name": "ButtonView",
            "button_style": "",
            "description": "5",
            "disabled": false,
            "icon": "",
            "layout": "IPY_MODEL_2f0e8d49d79e4b10a4e0c1a7d4ae89f7",
            "style": "IPY_MODEL_39ff717b75bd4a29b110c548efe192a4",
            "tooltip": ""
          }
        },
        "2f0e8d49d79e4b10a4e0c1a7d4ae89f7": {
          "model_module": "@jupyter-widgets/base",
          "model_name": "LayoutModel",
          "model_module_version": "1.2.0",
          "state": {
            "_model_module": "@jupyter-widgets/base",
            "_model_module_version": "1.2.0",
            "_model_name": "LayoutModel",
            "_view_count": null,
            "_view_module": "@jupyter-widgets/base",
            "_view_module_version": "1.2.0",
            "_view_name": "LayoutView",
            "align_content": null,
            "align_items": null,
            "align_self": null,
            "border": null,
            "bottom": null,
            "display": null,
            "flex": null,
            "flex_flow": null,
            "grid_area": null,
            "grid_auto_columns": null,
            "grid_auto_flow": null,
            "grid_auto_rows": null,
            "grid_column": null,
            "grid_gap": null,
            "grid_row": null,
            "grid_template_areas": null,
            "grid_template_columns": null,
            "grid_template_rows": null,
            "height": null,
            "justify_content": null,
            "justify_items": null,
            "left": null,
            "margin": null,
            "max_height": null,
            "max_width": null,
            "min_height": null,
            "min_width": null,
            "object_fit": null,
            "object_position": null,
            "order": null,
            "overflow": null,
            "overflow_x": null,
            "overflow_y": null,
            "padding": null,
            "right": null,
            "top": null,
            "visibility": null,
            "width": null
          }
        },
        "39ff717b75bd4a29b110c548efe192a4": {
          "model_module": "@jupyter-widgets/controls",
          "model_name": "ButtonStyleModel",
          "model_module_version": "1.5.0",
          "state": {
            "_model_module": "@jupyter-widgets/controls",
            "_model_module_version": "1.5.0",
            "_model_name": "ButtonStyleModel",
            "_view_count": null,
            "_view_module": "@jupyter-widgets/base",
            "_view_module_version": "1.2.0",
            "_view_name": "StyleView",
            "button_color": null,
            "font_weight": ""
          }
        },
        "7bfd594311894fa2be07dadc5a360800": {
          "model_module": "@jupyter-widgets/controls",
          "model_name": "ButtonModel",
          "model_module_version": "1.5.0",
          "state": {
            "_dom_classes": [],
            "_model_module": "@jupyter-widgets/controls",
            "_model_module_version": "1.5.0",
            "_model_name": "ButtonModel",
            "_view_count": null,
            "_view_module": "@jupyter-widgets/controls",
            "_view_module_version": "1.5.0",
            "_view_name": "ButtonView",
            "button_style": "",
            "description": "6",
            "disabled": false,
            "icon": "",
            "layout": "IPY_MODEL_59896053236f4f2784447ed50a99923c",
            "style": "IPY_MODEL_d6c12c18b83a45f0aabd2ce6e23036a9",
            "tooltip": ""
          }
        },
        "59896053236f4f2784447ed50a99923c": {
          "model_module": "@jupyter-widgets/base",
          "model_name": "LayoutModel",
          "model_module_version": "1.2.0",
          "state": {
            "_model_module": "@jupyter-widgets/base",
            "_model_module_version": "1.2.0",
            "_model_name": "LayoutModel",
            "_view_count": null,
            "_view_module": "@jupyter-widgets/base",
            "_view_module_version": "1.2.0",
            "_view_name": "LayoutView",
            "align_content": null,
            "align_items": null,
            "align_self": null,
            "border": null,
            "bottom": null,
            "display": null,
            "flex": null,
            "flex_flow": null,
            "grid_area": null,
            "grid_auto_columns": null,
            "grid_auto_flow": null,
            "grid_auto_rows": null,
            "grid_column": null,
            "grid_gap": null,
            "grid_row": null,
            "grid_template_areas": null,
            "grid_template_columns": null,
            "grid_template_rows": null,
            "height": null,
            "justify_content": null,
            "justify_items": null,
            "left": null,
            "margin": null,
            "max_height": null,
            "max_width": null,
            "min_height": null,
            "min_width": null,
            "object_fit": null,
            "object_position": null,
            "order": null,
            "overflow": null,
            "overflow_x": null,
            "overflow_y": null,
            "padding": null,
            "right": null,
            "top": null,
            "visibility": null,
            "width": null
          }
        },
        "d6c12c18b83a45f0aabd2ce6e23036a9": {
          "model_module": "@jupyter-widgets/controls",
          "model_name": "ButtonStyleModel",
          "model_module_version": "1.5.0",
          "state": {
            "_model_module": "@jupyter-widgets/controls",
            "_model_module_version": "1.5.0",
            "_model_name": "ButtonStyleModel",
            "_view_count": null,
            "_view_module": "@jupyter-widgets/base",
            "_view_module_version": "1.2.0",
            "_view_name": "StyleView",
            "button_color": null,
            "font_weight": ""
          }
        },
        "148b203671c847d384cc8384b427ad85": {
          "model_module": "@jupyter-widgets/controls",
          "model_name": "ButtonModel",
          "model_module_version": "1.5.0",
          "state": {
            "_dom_classes": [],
            "_model_module": "@jupyter-widgets/controls",
            "_model_module_version": "1.5.0",
            "_model_name": "ButtonModel",
            "_view_count": null,
            "_view_module": "@jupyter-widgets/controls",
            "_view_module_version": "1.5.0",
            "_view_name": "ButtonView",
            "button_style": "",
            "description": "7",
            "disabled": false,
            "icon": "",
            "layout": "IPY_MODEL_03fb8aca129545a0a469384547277ad0",
            "style": "IPY_MODEL_24c1bf8b5f394480a64afcd718fc6378",
            "tooltip": ""
          }
        },
        "03fb8aca129545a0a469384547277ad0": {
          "model_module": "@jupyter-widgets/base",
          "model_name": "LayoutModel",
          "model_module_version": "1.2.0",
          "state": {
            "_model_module": "@jupyter-widgets/base",
            "_model_module_version": "1.2.0",
            "_model_name": "LayoutModel",
            "_view_count": null,
            "_view_module": "@jupyter-widgets/base",
            "_view_module_version": "1.2.0",
            "_view_name": "LayoutView",
            "align_content": null,
            "align_items": null,
            "align_self": null,
            "border": null,
            "bottom": null,
            "display": null,
            "flex": null,
            "flex_flow": null,
            "grid_area": null,
            "grid_auto_columns": null,
            "grid_auto_flow": null,
            "grid_auto_rows": null,
            "grid_column": null,
            "grid_gap": null,
            "grid_row": null,
            "grid_template_areas": null,
            "grid_template_columns": null,
            "grid_template_rows": null,
            "height": null,
            "justify_content": null,
            "justify_items": null,
            "left": null,
            "margin": null,
            "max_height": null,
            "max_width": null,
            "min_height": null,
            "min_width": null,
            "object_fit": null,
            "object_position": null,
            "order": null,
            "overflow": null,
            "overflow_x": null,
            "overflow_y": null,
            "padding": null,
            "right": null,
            "top": null,
            "visibility": null,
            "width": null
          }
        },
        "24c1bf8b5f394480a64afcd718fc6378": {
          "model_module": "@jupyter-widgets/controls",
          "model_name": "ButtonStyleModel",
          "model_module_version": "1.5.0",
          "state": {
            "_model_module": "@jupyter-widgets/controls",
            "_model_module_version": "1.5.0",
            "_model_name": "ButtonStyleModel",
            "_view_count": null,
            "_view_module": "@jupyter-widgets/base",
            "_view_module_version": "1.2.0",
            "_view_name": "StyleView",
            "button_color": null,
            "font_weight": ""
          }
        },
        "3f546290536a47faa3d9428b62ed8b75": {
          "model_module": "@jupyter-widgets/controls",
          "model_name": "ButtonModel",
          "model_module_version": "1.5.0",
          "state": {
            "_dom_classes": [],
            "_model_module": "@jupyter-widgets/controls",
            "_model_module_version": "1.5.0",
            "_model_name": "ButtonModel",
            "_view_count": null,
            "_view_module": "@jupyter-widgets/controls",
            "_view_module_version": "1.5.0",
            "_view_name": "ButtonView",
            "button_style": "",
            "description": "8",
            "disabled": false,
            "icon": "",
            "layout": "IPY_MODEL_39bf896b5f864ccf915641321cb4390b",
            "style": "IPY_MODEL_1bcc718158614a6a8c4d7c6f18a05e6c",
            "tooltip": ""
          }
        },
        "39bf896b5f864ccf915641321cb4390b": {
          "model_module": "@jupyter-widgets/base",
          "model_name": "LayoutModel",
          "model_module_version": "1.2.0",
          "state": {
            "_model_module": "@jupyter-widgets/base",
            "_model_module_version": "1.2.0",
            "_model_name": "LayoutModel",
            "_view_count": null,
            "_view_module": "@jupyter-widgets/base",
            "_view_module_version": "1.2.0",
            "_view_name": "LayoutView",
            "align_content": null,
            "align_items": null,
            "align_self": null,
            "border": null,
            "bottom": null,
            "display": null,
            "flex": null,
            "flex_flow": null,
            "grid_area": null,
            "grid_auto_columns": null,
            "grid_auto_flow": null,
            "grid_auto_rows": null,
            "grid_column": null,
            "grid_gap": null,
            "grid_row": null,
            "grid_template_areas": null,
            "grid_template_columns": null,
            "grid_template_rows": null,
            "height": null,
            "justify_content": null,
            "justify_items": null,
            "left": null,
            "margin": null,
            "max_height": null,
            "max_width": null,
            "min_height": null,
            "min_width": null,
            "object_fit": null,
            "object_position": null,
            "order": null,
            "overflow": null,
            "overflow_x": null,
            "overflow_y": null,
            "padding": null,
            "right": null,
            "top": null,
            "visibility": null,
            "width": null
          }
        },
        "1bcc718158614a6a8c4d7c6f18a05e6c": {
          "model_module": "@jupyter-widgets/controls",
          "model_name": "ButtonStyleModel",
          "model_module_version": "1.5.0",
          "state": {
            "_model_module": "@jupyter-widgets/controls",
            "_model_module_version": "1.5.0",
            "_model_name": "ButtonStyleModel",
            "_view_count": null,
            "_view_module": "@jupyter-widgets/base",
            "_view_module_version": "1.2.0",
            "_view_name": "StyleView",
            "button_color": null,
            "font_weight": ""
          }
        },
        "f24d74e4d7f14e2d9280cb41db03e436": {
          "model_module": "@jupyter-widgets/controls",
          "model_name": "ButtonModel",
          "model_module_version": "1.5.0",
          "state": {
            "_dom_classes": [],
            "_model_module": "@jupyter-widgets/controls",
            "_model_module_version": "1.5.0",
            "_model_name": "ButtonModel",
            "_view_count": null,
            "_view_module": "@jupyter-widgets/controls",
            "_view_module_version": "1.5.0",
            "_view_name": "ButtonView",
            "button_style": "",
            "description": "Replay",
            "disabled": false,
            "icon": "",
            "layout": "IPY_MODEL_4d0e39597c754e2c9817bb5ce1b15410",
            "style": "IPY_MODEL_1bfcd24d7d174ca7bfed971db3bc2821",
            "tooltip": ""
          }
        },
        "4d0e39597c754e2c9817bb5ce1b15410": {
          "model_module": "@jupyter-widgets/base",
          "model_name": "LayoutModel",
          "model_module_version": "1.2.0",
          "state": {
            "_model_module": "@jupyter-widgets/base",
            "_model_module_version": "1.2.0",
            "_model_name": "LayoutModel",
            "_view_count": null,
            "_view_module": "@jupyter-widgets/base",
            "_view_module_version": "1.2.0",
            "_view_name": "LayoutView",
            "align_content": null,
            "align_items": null,
            "align_self": null,
            "border": null,
            "bottom": null,
            "display": null,
            "flex": null,
            "flex_flow": null,
            "grid_area": null,
            "grid_auto_columns": null,
            "grid_auto_flow": null,
            "grid_auto_rows": null,
            "grid_column": null,
            "grid_gap": null,
            "grid_row": null,
            "grid_template_areas": null,
            "grid_template_columns": null,
            "grid_template_rows": null,
            "height": null,
            "justify_content": null,
            "justify_items": null,
            "left": null,
            "margin": null,
            "max_height": null,
            "max_width": null,
            "min_height": null,
            "min_width": null,
            "object_fit": null,
            "object_position": null,
            "order": null,
            "overflow": null,
            "overflow_x": null,
            "overflow_y": null,
            "padding": null,
            "right": null,
            "top": null,
            "visibility": null,
            "width": null
          }
        },
        "1bfcd24d7d174ca7bfed971db3bc2821": {
          "model_module": "@jupyter-widgets/controls",
          "model_name": "ButtonStyleModel",
          "model_module_version": "1.5.0",
          "state": {
            "_model_module": "@jupyter-widgets/controls",
            "_model_module_version": "1.5.0",
            "_model_name": "ButtonStyleModel",
            "_view_count": null,
            "_view_module": "@jupyter-widgets/base",
            "_view_module_version": "1.2.0",
            "_view_name": "StyleView",
            "button_color": null,
            "font_weight": ""
          }
        }
      }
    }
  },
  "cells": [
    {
      "cell_type": "markdown",
      "source": [
        "# **Introduction to Quantum Computing (Lab 5 — Quantum Tic-Tac-Toe)**\n"
      ],
      "metadata": {
        "id": "_aW4PomvufEN"
      }
    },
    {
      "cell_type": "markdown",
      "metadata": {
        "id": "xV7VUIMwH2IT"
      },
      "source": [
        "In this lab you will an actual quantum game! Have fun 😀"
      ]
    },
    {
      "cell_type": "code",
      "source": [
        "!pip install qiskit --quiet\n",
        "!pip install pylatexenc --quiet"
      ],
      "metadata": {
        "id": "lc_VkarCxL4z",
        "colab": {
          "base_uri": "https://localhost:8080/"
        },
        "outputId": "f9ca9563-14b3-4d78-cb53-4d657506ce6b"
      },
      "execution_count": null,
      "outputs": [
        {
          "output_type": "stream",
          "name": "stdout",
          "text": [
            "\u001b[2K     \u001b[90m━━━━━━━━━━━━━━━━━━━━━━━━━━━━━━━━━━━━━━━━\u001b[0m \u001b[32m4.3/4.3 MB\u001b[0m \u001b[31m12.8 MB/s\u001b[0m eta \u001b[36m0:00:00\u001b[0m\n",
            "\u001b[2K     \u001b[90m━━━━━━━━━━━━━━━━━━━━━━━━━━━━━━━━━━━━━━━━\u001b[0m \u001b[32m2.1/2.1 MB\u001b[0m \u001b[31m27.1 MB/s\u001b[0m eta \u001b[36m0:00:00\u001b[0m\n",
            "\u001b[2K     \u001b[90m━━━━━━━━━━━━━━━━━━━━━━━━━━━━━━━━━━━━━━━━\u001b[0m \u001b[32m116.3/116.3 kB\u001b[0m \u001b[31m11.9 MB/s\u001b[0m eta \u001b[36m0:00:00\u001b[0m\n",
            "\u001b[2K     \u001b[90m━━━━━━━━━━━━━━━━━━━━━━━━━━━━━━━━━━━━━━━━\u001b[0m \u001b[32m49.7/49.7 kB\u001b[0m \u001b[31m3.1 MB/s\u001b[0m eta \u001b[36m0:00:00\u001b[0m\n",
            "\u001b[2K     \u001b[90m━━━━━━━━━━━━━━━━━━━━━━━━━━━━━━━━━━━━━━━━\u001b[0m \u001b[32m39.4/39.4 MB\u001b[0m \u001b[31m14.9 MB/s\u001b[0m eta \u001b[36m0:00:00\u001b[0m\n",
            "\u001b[2K     \u001b[90m━━━━━━━━━━━━━━━━━━━━━━━━━━━━━━━━━━━━━━━━\u001b[0m \u001b[32m107.5/107.5 kB\u001b[0m \u001b[31m10.6 MB/s\u001b[0m eta \u001b[36m0:00:00\u001b[0m\n",
            "\u001b[2K     \u001b[90m━━━━━━━━━━━━━━━━━━━━━━━━━━━━━━━━━━━━━━━━\u001b[0m \u001b[32m162.6/162.6 kB\u001b[0m \u001b[31m3.3 MB/s\u001b[0m eta \u001b[36m0:00:00\u001b[0m\n",
            "\u001b[?25h  Preparing metadata (setup.py) ... \u001b[?25l\u001b[?25hdone\n",
            "  Building wheel for pylatexenc (setup.py) ... \u001b[?25l\u001b[?25hdone\n"
          ]
        }
      ]
    },
    {
      "cell_type": "code",
      "source": [
        "!pip install qiskit-aer --quiet # Install the missing module\n",
        "from qiskit import *\n",
        "from qiskit.visualization import plot_histogram\n",
        "from google.colab import widgets\n",
        "from __future__ import print_function\n",
        "from ipywidgets import interact, interactive, fixed, interact_manual, Button, Layout\n",
        "import ipywidgets\n",
        "import pandas as pd\n",
        "import math\n",
        "import numpy as np\n",
        "import random\n",
        "from IPython.display import clear_output\n",
        "from qiskit_aer import AerSimulator\n",
        "from qiskit import QuantumCircuit\n",
        "from qiskit.quantum_info import Statevector\n",
        "from qiskit.visualization import plot_bloch_multivector\n",
        "from qiskit_aer import AerSimulator\n",
        "from qiskit.visualization import plot_histogram, plot_state_city"
      ],
      "metadata": {
        "id": "m6C_PKryxHHC",
        "colab": {
          "base_uri": "https://localhost:8080/"
        },
        "outputId": "33e44b06-c317-4ec2-aeb1-293659725a55"
      },
      "execution_count": null,
      "outputs": [
        {
          "output_type": "stream",
          "name": "stdout",
          "text": [
            "\u001b[2K     \u001b[90m━━━━━━━━━━━━━━━━━━━━━━━━━━━━━━━━━━━━━━━━\u001b[0m \u001b[32m12.4/12.4 MB\u001b[0m \u001b[31m33.9 MB/s\u001b[0m eta \u001b[36m0:00:00\u001b[0m\n",
            "\u001b[?25h"
          ]
        }
      ]
    },
    {
      "cell_type": "markdown",
      "source": [
        "The code for the game comprises the two classes below. Edit at your peril. But, also, edit if you want to change the rules of the game!"
      ],
      "metadata": {
        "id": "6eutfLK-qW7v"
      }
    },
    {
      "cell_type": "code",
      "source": [
        "\n",
        "class Board:\n",
        "    def __init__(self):\n",
        "        self.qc = QuantumCircuit(9, 9)\n",
        "        self.function = ''\n",
        "        self.target = -1\n",
        "        self.tab = []\n",
        "        self.winsX = 0\n",
        "        self.winsO = 0\n",
        "\n",
        "        for idx in range(0, 9):\n",
        "            self.tab.append({'default':str(idx), 'player':' '})\n",
        "            self.qc.reset(idx)\n",
        "            self.qc.h(idx)\n",
        "        self.qc.barrier()\n",
        "\n",
        "    def make_move(self, cell):\n",
        "        if self.function == 'Not':\n",
        "            # add an $x$ gate\n",
        "            self.tab[int(cell)]['player'] += 'N - '\n",
        "        elif self.function == 'O':\n",
        "            # add a rotation toward |0>\n",
        "            self.tab[int(cell)]['player'] += \"O - \"\n",
        "        elif self.function == 'X':\n",
        "            # add a rotation toward |1>\n",
        "            self.tab[int(cell)]['player'] += \"X - \"\n",
        "        elif self.function == 'SWAP' and self.target != cell:\n",
        "            if self.target == cell:\n",
        "                self.target = -1\n",
        "            else:\n",
        "                # add a swap gate\n",
        "                self.tab[int(cell)]['player'] += \"S - \"\n",
        "                self.tab[int(self.target)]['player'] += \"S - \"\n",
        "\n",
        "    def results(self):\n",
        "        display(self.qc.draw('mpl'))\n",
        "        self.qc = QuantumCircuit(9, 9)\n",
        "\n",
        "    def display(self):\n",
        "        display(self.qc.draw('mpl'))\n",
        "\n",
        "    def measure(self):\n",
        "        self.qc.barrier()\n",
        "        for i in range(0,9):\n",
        "            self.qc.measure(i, i)\n",
        "\n",
        "        simulator = AerSimulator()\n",
        "        job = simulator.run(self.qc, shots=1)\n",
        "        counts = job.result().get_counts()\n",
        "        output = list(counts.keys())[0]\n",
        "\n",
        "       # output = job.result().get_memory()[0]\n",
        "\n",
        "        for i in range(0,9):\n",
        "            if output[9-1-i] == '0':\n",
        "                self.tab[i]['player'] = 'X'\n",
        "            else:\n",
        "                self.tab[i]['player'] = 'O'\n",
        "        self.winsX = self.countWinners('X')\n",
        "        self.winsO = self.countWinners('O')\n",
        "\n",
        "    def countWinners(self, player):\n",
        "        winners = () #there are 8 triples (x,y,z) of win conditions... add them\n",
        "        wins = 0\n",
        "        for i in range(len(winners)):\n",
        "            won = True\n",
        "            for j in range(len(winners[0])):\n",
        "                if not self.tab[winners[i][j]]['player'] == player:\n",
        "                    won = False\n",
        "            if won:\n",
        "                wins = wins + 1\n",
        "        return wins\n",
        "\n",
        "    def new(self):\n",
        "        self.tab.clear()\n",
        "        for idx in range(0,9):\n",
        "           self.tab.append({'default':str(idx), 'player':''})\n",
        "           self.qc.reset(idx)\n",
        "           self.qc.h(idx)\n",
        "        self.qc.barrier()\n"
      ],
      "metadata": {
        "id": "kbEzlsrxxUfE"
      },
      "execution_count": null,
      "outputs": []
    },
    {
      "cell_type": "code",
      "source": [
        "class Game:\n",
        "    def __init__(self):\n",
        "        self.selecting = False\n",
        "        self.board = Board()\n",
        "        self.boardbutton_list = []\n",
        "        for i in range(0,9):\n",
        "            button = Button(description=str(i))\n",
        "            button.on_click(self.handle_game)\n",
        "            self.boardbutton_list.append(button)\n",
        "\n",
        "        self.funcbutton_list = []\n",
        "        self.newButton('Measure')\n",
        "        self.newButton('Not')\n",
        "        self.newButton('O')\n",
        "        self.newButton('X')\n",
        "        self.newButton('SWAP')\n",
        "        self.printmenu()\n",
        "        self.printBoard()\n",
        "\n",
        "    def newButton(self, name):\n",
        "        function = Button(description=name, layout=Layout(width='86px', height='30px'))\n",
        "        function.on_click(self.handle_game)\n",
        "        self.funcbutton_list.append(function)\n",
        "\n",
        "    def handle_game(self, b):\n",
        "        try:\n",
        "            if b.description == 'Measure':\n",
        "                clear_output()\n",
        "                self.replay()\n",
        "                self.board.measure()\n",
        "                self.scoreboard()\n",
        "                self.printBoard()\n",
        "                self.board.results()\n",
        "\n",
        "\n",
        "            if b.description == 'Replay':\n",
        "                clear_output()\n",
        "                self.board.new()\n",
        "                self.printmenu()\n",
        "                self.printBoard()\n",
        "\n",
        "            if int(b.description) >= 0:\n",
        "                if self.selecting:\n",
        "                    self.board.target = int(b.description)\n",
        "                else:\n",
        "                    clear_output()\n",
        "                    self.printmenu()\n",
        "                    self.board.make_move(int(b.description))\n",
        "                    self.printBoard()\n",
        "                    self.board.display()\n",
        "            self.selecting = False\n",
        "        except ValueError:\n",
        "            self.board.function = b.description\n",
        "            self.selecting = False\n",
        "            if self.board.function == 'SWAP':\n",
        "                self.selecting = True\n",
        "\n",
        "    def printmenu(self):\n",
        "        grid = widgets.Grid(1, 5)\n",
        "        for (row, col) in grid:\n",
        "            display(self.funcbutton_list[col])\n",
        "\n",
        "    def scoreboard(self):\n",
        "        print(\"X wins: \" + str(self.board.winsX) + \"    O wins: \" + str(self.board.winsO))\n",
        "\n",
        "    def replay(self):\n",
        "        rep = Button(description=\"Replay\")\n",
        "        rep.on_click(self.handle_game)\n",
        "        display(rep)\n",
        "\n",
        "    def printBoard(self):\n",
        "        grid = widgets.Grid(1, int(np.sqrt(9)), header_row=True, header_column=True)\n",
        "        for row in range(int(np.sqrt(9))):\n",
        "              for (useless, col) in grid:\n",
        "                  print(\"\\n\"+self.board.tab[col + row * int(np.sqrt(9))]['player']+\"\\n\")\n",
        "                  display(self.boardbutton_list[col + row * int(np.sqrt(9))])"
      ],
      "metadata": {
        "id": "adHd14cFxZTm"
      },
      "execution_count": null,
      "outputs": []
    },
    {
      "cell_type": "markdown",
      "source": [
        "In this iteration, we'll play the game on the qiskit simulator."
      ],
      "metadata": {
        "id": "prIgu6SiqeSm"
      }
    },
    {
      "cell_type": "markdown",
      "source": [
        "## The game!\n",
        "To make a move, click one of the 5 options above the board and then click the location where you want to make that move. To play \"SWAP,\" you need to click two board locations.\n",
        "\n",
        "Each move adds a gate to the game circuit. They do the following:\n",
        "\n",
        "* **Measure** ends the round and execute the game circuit on the quantum device. The win conditions will be counted and displayed.\n",
        "* **Not** flips an \"owned\" tile to the other player. If the tile is not currently owned, this does nothing.\n",
        "* **O** turns the intial tile toward a tile owned by \"O.\"\n",
        "* **X** turns the intial tile toward a tile owned by \"X.\"\n",
        "* **SWAP** swaps the location of two tiles.\n",
        "\n",
        "As you play, you will see the game circuit and the board. The board shows the sequence of moves, but is not 100% accurate. The game circuit is true state of the game."
      ],
      "metadata": {
        "id": "l3Gt2uW_qb7b"
      }
    },
    {
      "cell_type": "code",
      "source": [
        "game = Game()"
      ],
      "metadata": {
        "colab": {
          "base_uri": "https://localhost:8080/",
          "height": 1000,
          "referenced_widgets": [
            "024d8c9383374b4788b942cb9c524da9",
            "10124dad048a46a581e431849f39136b",
            "b982e2c8b07445a4a9ec0f74d3dd77ff",
            "8a6d21817efc4dcd8f06e8817218072d",
            "fef9827a51a24baea01b8bb8f66066c1",
            "e606d64e02384289afa482a780602cfa",
            "da7441fd09b047cfa101e5e129666de0",
            "9f82a1399ab14f798401f723f8b15b54",
            "43c49364c95b4f948b60453fe54ea41c",
            "61e24c2476e84d41b380cd5367cafc21",
            "d2878d86f987445aa70568b9fc994767",
            "f5df33069a784093a2802656703b546c",
            "820fb2a19f8c4bf28b4fcd262197b387",
            "4e98be3a124343ccb945bce44886e5dd",
            "07d758eb22934bd7bc70ec7ea529248a",
            "5b6aaf6f1e00475b825a83296119167a",
            "306e49eaa70846029e862302dac1d298",
            "3101a4c144aa4c8fbd2bd059d6cbcb14",
            "5db570122113404a9015d23a1a825c06",
            "ba0dc7270fd6481fb41afbb58e9c631b",
            "83ef907714d44c5a8a3daf1d7a817863",
            "c413ffed9b7d49319f29fbf1c0655b51",
            "4b3f3614900b4e5eb1fb500a53eef3f8",
            "40b4f76ba3ce44d283db338f1dd9d4c4",
            "8dafc80e42044390ae7ecdd2f2f8e88a",
            "e9b4302df6a240489cfcb518905d731a",
            "841627e138674d5c9dd47afb056bbf5a",
            "60b423fd0a3b45aab43155157c1f035e",
            "6142a63cf43a48a0b6ddf187201efe61",
            "bb1a207fe3ed4838b5078a1204e3a3d6",
            "8cff04f6543e4d44a44952ea4f9e38b0",
            "2f0e8d49d79e4b10a4e0c1a7d4ae89f7",
            "39ff717b75bd4a29b110c548efe192a4",
            "7bfd594311894fa2be07dadc5a360800",
            "59896053236f4f2784447ed50a99923c",
            "d6c12c18b83a45f0aabd2ce6e23036a9",
            "148b203671c847d384cc8384b427ad85",
            "03fb8aca129545a0a469384547277ad0",
            "24c1bf8b5f394480a64afcd718fc6378",
            "3f546290536a47faa3d9428b62ed8b75",
            "39bf896b5f864ccf915641321cb4390b",
            "1bcc718158614a6a8c4d7c6f18a05e6c",
            "f24d74e4d7f14e2d9280cb41db03e436",
            "4d0e39597c754e2c9817bb5ce1b15410",
            "1bfcd24d7d174ca7bfed971db3bc2821"
          ]
        },
        "id": "wuHfV2g5xaxs",
        "outputId": "73184822-bd64-4f96-d461-a25c02226ebc"
      },
      "execution_count": null,
      "outputs": [
        {
          "output_type": "display_data",
          "data": {
            "text/plain": [
              "Button(description='Replay', style=ButtonStyle())"
            ],
            "application/vnd.jupyter.widget-view+json": {
              "version_major": 2,
              "version_minor": 0,
              "model_id": "f24d74e4d7f14e2d9280cb41db03e436"
            }
          },
          "metadata": {}
        },
        {
          "output_type": "stream",
          "name": "stdout",
          "text": [
            "X wins: 1    O wins: 1\n"
          ]
        },
        {
          "output_type": "display_data",
          "data": {
            "text/plain": [
              "<IPython.core.display.HTML object>"
            ],
            "text/html": [
              "<style>\n",
              "       table#id18, #id18 > tbody > tr > th, #id18 > tbody > tr > td {\n",
              "         border: 1px solid lightgray;\n",
              "         border-collapse:collapse;\n",
              "         \n",
              "        }</style>"
            ]
          },
          "metadata": {}
        },
        {
          "output_type": "display_data",
          "data": {
            "text/plain": [
              "<IPython.core.display.HTML object>"
            ],
            "text/html": [
              "<table id=id18><tr><th id=id18-0-0></th><th id=id18-0-1></th><th id=id18-0-2></th></tr></table>"
            ]
          },
          "metadata": {}
        },
        {
          "output_type": "display_data",
          "data": {
            "text/plain": [
              "<IPython.core.display.Javascript object>"
            ],
            "application/javascript": [
              "window[\"c11996da-2ceb-11ef-b3a1-0242ac1c000c\"] = google.colab.output.getActiveOutputArea();\n",
              "//# sourceURL=js_7b9d0eff19"
            ]
          },
          "metadata": {}
        },
        {
          "output_type": "display_data",
          "data": {
            "text/plain": [
              "<IPython.core.display.Javascript object>"
            ],
            "application/javascript": [
              "window[\"c119e9be-2ceb-11ef-b3a1-0242ac1c000c\"] = document.querySelector(\"#id18-0-0\");\n",
              "//# sourceURL=js_b0012345cf"
            ]
          },
          "metadata": {}
        },
        {
          "output_type": "display_data",
          "data": {
            "text/plain": [
              "<IPython.core.display.Javascript object>"
            ],
            "application/javascript": [
              "window[\"c11a3cde-2ceb-11ef-b3a1-0242ac1c000c\"] = google.colab.output.setActiveOutputArea(window[\"c119e9be-2ceb-11ef-b3a1-0242ac1c000c\"]);\n",
              "//# sourceURL=js_c79d4eb23c"
            ]
          },
          "metadata": {}
        },
        {
          "output_type": "stream",
          "name": "stdout",
          "text": [
            "\n",
            "O\n",
            "\n"
          ]
        },
        {
          "output_type": "display_data",
          "data": {
            "text/plain": [
              "Button(description='0', style=ButtonStyle())"
            ],
            "application/vnd.jupyter.widget-view+json": {
              "version_major": 2,
              "version_minor": 0,
              "model_id": "5b6aaf6f1e00475b825a83296119167a"
            }
          },
          "metadata": {}
        },
        {
          "output_type": "display_data",
          "data": {
            "text/plain": [
              "<IPython.core.display.Javascript object>"
            ],
            "application/javascript": [
              "window[\"c11bb88e-2ceb-11ef-b3a1-0242ac1c000c\"] = google.colab.output.setActiveOutputArea(window[\"c11996da-2ceb-11ef-b3a1-0242ac1c000c\"]);\n",
              "//# sourceURL=js_8a83f394e2"
            ]
          },
          "metadata": {}
        },
        {
          "output_type": "display_data",
          "data": {
            "text/plain": [
              "<IPython.core.display.Javascript object>"
            ],
            "application/javascript": [
              "window[\"c11e5382-2ceb-11ef-b3a1-0242ac1c000c\"] = google.colab.output.getActiveOutputArea();\n",
              "//# sourceURL=js_a8d347e7e0"
            ]
          },
          "metadata": {}
        },
        {
          "output_type": "display_data",
          "data": {
            "text/plain": [
              "<IPython.core.display.Javascript object>"
            ],
            "application/javascript": [
              "window[\"c11e9dba-2ceb-11ef-b3a1-0242ac1c000c\"] = document.querySelector(\"#id18-0-1\");\n",
              "//# sourceURL=js_f8223c16cd"
            ]
          },
          "metadata": {}
        },
        {
          "output_type": "display_data",
          "data": {
            "text/plain": [
              "<IPython.core.display.Javascript object>"
            ],
            "application/javascript": [
              "window[\"c11f7be0-2ceb-11ef-b3a1-0242ac1c000c\"] = google.colab.output.setActiveOutputArea(window[\"c11e9dba-2ceb-11ef-b3a1-0242ac1c000c\"]);\n",
              "//# sourceURL=js_972cecf058"
            ]
          },
          "metadata": {}
        },
        {
          "output_type": "stream",
          "name": "stdout",
          "text": [
            "\n",
            "O\n",
            "\n"
          ]
        },
        {
          "output_type": "display_data",
          "data": {
            "text/plain": [
              "Button(description='1', style=ButtonStyle())"
            ],
            "application/vnd.jupyter.widget-view+json": {
              "version_major": 2,
              "version_minor": 0,
              "model_id": "5db570122113404a9015d23a1a825c06"
            }
          },
          "metadata": {}
        },
        {
          "output_type": "display_data",
          "data": {
            "text/plain": [
              "<IPython.core.display.Javascript object>"
            ],
            "application/javascript": [
              "window[\"c1210c58-2ceb-11ef-b3a1-0242ac1c000c\"] = google.colab.output.setActiveOutputArea(window[\"c11e5382-2ceb-11ef-b3a1-0242ac1c000c\"]);\n",
              "//# sourceURL=js_d08753d4c0"
            ]
          },
          "metadata": {}
        },
        {
          "output_type": "display_data",
          "data": {
            "text/plain": [
              "<IPython.core.display.Javascript object>"
            ],
            "application/javascript": [
              "window[\"c122b882-2ceb-11ef-b3a1-0242ac1c000c\"] = google.colab.output.getActiveOutputArea();\n",
              "//# sourceURL=js_d88fca5008"
            ]
          },
          "metadata": {}
        },
        {
          "output_type": "display_data",
          "data": {
            "text/plain": [
              "<IPython.core.display.Javascript object>"
            ],
            "application/javascript": [
              "window[\"c12300b2-2ceb-11ef-b3a1-0242ac1c000c\"] = document.querySelector(\"#id18-0-2\");\n",
              "//# sourceURL=js_135a6d91c8"
            ]
          },
          "metadata": {}
        },
        {
          "output_type": "display_data",
          "data": {
            "text/plain": [
              "<IPython.core.display.Javascript object>"
            ],
            "application/javascript": [
              "window[\"c12346a8-2ceb-11ef-b3a1-0242ac1c000c\"] = google.colab.output.setActiveOutputArea(window[\"c12300b2-2ceb-11ef-b3a1-0242ac1c000c\"]);\n",
              "//# sourceURL=js_e3c02b43d6"
            ]
          },
          "metadata": {}
        },
        {
          "output_type": "stream",
          "name": "stdout",
          "text": [
            "\n",
            "O\n",
            "\n"
          ]
        },
        {
          "output_type": "display_data",
          "data": {
            "text/plain": [
              "Button(description='2', style=ButtonStyle())"
            ],
            "application/vnd.jupyter.widget-view+json": {
              "version_major": 2,
              "version_minor": 0,
              "model_id": "c413ffed9b7d49319f29fbf1c0655b51"
            }
          },
          "metadata": {}
        },
        {
          "output_type": "display_data",
          "data": {
            "text/plain": [
              "<IPython.core.display.Javascript object>"
            ],
            "application/javascript": [
              "window[\"c1248ab8-2ceb-11ef-b3a1-0242ac1c000c\"] = google.colab.output.setActiveOutputArea(window[\"c122b882-2ceb-11ef-b3a1-0242ac1c000c\"]);\n",
              "//# sourceURL=js_36679037a7"
            ]
          },
          "metadata": {}
        },
        {
          "output_type": "display_data",
          "data": {
            "text/plain": [
              "<IPython.core.display.Javascript object>"
            ],
            "application/javascript": [
              "window[\"c126208a-2ceb-11ef-b3a1-0242ac1c000c\"] = google.colab.output.getActiveOutputArea();\n",
              "//# sourceURL=js_945aaee0c6"
            ]
          },
          "metadata": {}
        },
        {
          "output_type": "display_data",
          "data": {
            "text/plain": [
              "<IPython.core.display.Javascript object>"
            ],
            "application/javascript": [
              "window[\"c12669be-2ceb-11ef-b3a1-0242ac1c000c\"] = document.querySelector(\"#id18-0-0\");\n",
              "//# sourceURL=js_0a3ec7e1d4"
            ]
          },
          "metadata": {}
        },
        {
          "output_type": "display_data",
          "data": {
            "text/plain": [
              "<IPython.core.display.Javascript object>"
            ],
            "application/javascript": [
              "window[\"c126b8ba-2ceb-11ef-b3a1-0242ac1c000c\"] = google.colab.output.setActiveOutputArea(window[\"c12669be-2ceb-11ef-b3a1-0242ac1c000c\"]);\n",
              "//# sourceURL=js_40a6ed35db"
            ]
          },
          "metadata": {}
        },
        {
          "output_type": "stream",
          "name": "stdout",
          "text": [
            "\n",
            "X\n",
            "\n"
          ]
        },
        {
          "output_type": "display_data",
          "data": {
            "text/plain": [
              "Button(description='3', style=ButtonStyle())"
            ],
            "application/vnd.jupyter.widget-view+json": {
              "version_major": 2,
              "version_minor": 0,
              "model_id": "8dafc80e42044390ae7ecdd2f2f8e88a"
            }
          },
          "metadata": {}
        },
        {
          "output_type": "display_data",
          "data": {
            "text/plain": [
              "<IPython.core.display.Javascript object>"
            ],
            "application/javascript": [
              "window[\"c127fcf2-2ceb-11ef-b3a1-0242ac1c000c\"] = google.colab.output.setActiveOutputArea(window[\"c126208a-2ceb-11ef-b3a1-0242ac1c000c\"]);\n",
              "//# sourceURL=js_cc50ef2b55"
            ]
          },
          "metadata": {}
        },
        {
          "output_type": "display_data",
          "data": {
            "text/plain": [
              "<IPython.core.display.Javascript object>"
            ],
            "application/javascript": [
              "window[\"c129a6a6-2ceb-11ef-b3a1-0242ac1c000c\"] = google.colab.output.getActiveOutputArea();\n",
              "//# sourceURL=js_05a5f8420b"
            ]
          },
          "metadata": {}
        },
        {
          "output_type": "display_data",
          "data": {
            "text/plain": [
              "<IPython.core.display.Javascript object>"
            ],
            "application/javascript": [
              "window[\"c129fab6-2ceb-11ef-b3a1-0242ac1c000c\"] = document.querySelector(\"#id18-0-1\");\n",
              "//# sourceURL=js_350e27c0f1"
            ]
          },
          "metadata": {}
        },
        {
          "output_type": "display_data",
          "data": {
            "text/plain": [
              "<IPython.core.display.Javascript object>"
            ],
            "application/javascript": [
              "window[\"c12a4020-2ceb-11ef-b3a1-0242ac1c000c\"] = google.colab.output.setActiveOutputArea(window[\"c129fab6-2ceb-11ef-b3a1-0242ac1c000c\"]);\n",
              "//# sourceURL=js_60ddd5bf84"
            ]
          },
          "metadata": {}
        },
        {
          "output_type": "stream",
          "name": "stdout",
          "text": [
            "\n",
            "X\n",
            "\n"
          ]
        },
        {
          "output_type": "display_data",
          "data": {
            "text/plain": [
              "Button(description='4', style=ButtonStyle())"
            ],
            "application/vnd.jupyter.widget-view+json": {
              "version_major": 2,
              "version_minor": 0,
              "model_id": "60b423fd0a3b45aab43155157c1f035e"
            }
          },
          "metadata": {}
        },
        {
          "output_type": "display_data",
          "data": {
            "text/plain": [
              "<IPython.core.display.Javascript object>"
            ],
            "application/javascript": [
              "window[\"c12ba5dc-2ceb-11ef-b3a1-0242ac1c000c\"] = google.colab.output.setActiveOutputArea(window[\"c129a6a6-2ceb-11ef-b3a1-0242ac1c000c\"]);\n",
              "//# sourceURL=js_e2489e367c"
            ]
          },
          "metadata": {}
        },
        {
          "output_type": "display_data",
          "data": {
            "text/plain": [
              "<IPython.core.display.Javascript object>"
            ],
            "application/javascript": [
              "window[\"c12d4fea-2ceb-11ef-b3a1-0242ac1c000c\"] = google.colab.output.getActiveOutputArea();\n",
              "//# sourceURL=js_ece0312424"
            ]
          },
          "metadata": {}
        },
        {
          "output_type": "display_data",
          "data": {
            "text/plain": [
              "<IPython.core.display.Javascript object>"
            ],
            "application/javascript": [
              "window[\"c12d99a0-2ceb-11ef-b3a1-0242ac1c000c\"] = document.querySelector(\"#id18-0-2\");\n",
              "//# sourceURL=js_ea918ea1a7"
            ]
          },
          "metadata": {}
        },
        {
          "output_type": "display_data",
          "data": {
            "text/plain": [
              "<IPython.core.display.Javascript object>"
            ],
            "application/javascript": [
              "window[\"c12ddfbe-2ceb-11ef-b3a1-0242ac1c000c\"] = google.colab.output.setActiveOutputArea(window[\"c12d99a0-2ceb-11ef-b3a1-0242ac1c000c\"]);\n",
              "//# sourceURL=js_d8ffdc1c21"
            ]
          },
          "metadata": {}
        },
        {
          "output_type": "stream",
          "name": "stdout",
          "text": [
            "\n",
            "X\n",
            "\n"
          ]
        },
        {
          "output_type": "display_data",
          "data": {
            "text/plain": [
              "Button(description='5', style=ButtonStyle())"
            ],
            "application/vnd.jupyter.widget-view+json": {
              "version_major": 2,
              "version_minor": 0,
              "model_id": "8cff04f6543e4d44a44952ea4f9e38b0"
            }
          },
          "metadata": {}
        },
        {
          "output_type": "display_data",
          "data": {
            "text/plain": [
              "<IPython.core.display.Javascript object>"
            ],
            "application/javascript": [
              "window[\"c12f227a-2ceb-11ef-b3a1-0242ac1c000c\"] = google.colab.output.setActiveOutputArea(window[\"c12d4fea-2ceb-11ef-b3a1-0242ac1c000c\"]);\n",
              "//# sourceURL=js_aad9173218"
            ]
          },
          "metadata": {}
        },
        {
          "output_type": "display_data",
          "data": {
            "text/plain": [
              "<IPython.core.display.Javascript object>"
            ],
            "application/javascript": [
              "window[\"c130c62a-2ceb-11ef-b3a1-0242ac1c000c\"] = google.colab.output.getActiveOutputArea();\n",
              "//# sourceURL=js_d8e82ac880"
            ]
          },
          "metadata": {}
        },
        {
          "output_type": "display_data",
          "data": {
            "text/plain": [
              "<IPython.core.display.Javascript object>"
            ],
            "application/javascript": [
              "window[\"c1311062-2ceb-11ef-b3a1-0242ac1c000c\"] = document.querySelector(\"#id18-0-0\");\n",
              "//# sourceURL=js_465c715f13"
            ]
          },
          "metadata": {}
        },
        {
          "output_type": "display_data",
          "data": {
            "text/plain": [
              "<IPython.core.display.Javascript object>"
            ],
            "application/javascript": [
              "window[\"c1315630-2ceb-11ef-b3a1-0242ac1c000c\"] = google.colab.output.setActiveOutputArea(window[\"c1311062-2ceb-11ef-b3a1-0242ac1c000c\"]);\n",
              "//# sourceURL=js_40e66093be"
            ]
          },
          "metadata": {}
        },
        {
          "output_type": "stream",
          "name": "stdout",
          "text": [
            "\n",
            "O\n",
            "\n"
          ]
        },
        {
          "output_type": "display_data",
          "data": {
            "text/plain": [
              "Button(description='6', style=ButtonStyle())"
            ],
            "application/vnd.jupyter.widget-view+json": {
              "version_major": 2,
              "version_minor": 0,
              "model_id": "7bfd594311894fa2be07dadc5a360800"
            }
          },
          "metadata": {}
        },
        {
          "output_type": "display_data",
          "data": {
            "text/plain": [
              "<IPython.core.display.Javascript object>"
            ],
            "application/javascript": [
              "window[\"c1332424-2ceb-11ef-b3a1-0242ac1c000c\"] = google.colab.output.setActiveOutputArea(window[\"c130c62a-2ceb-11ef-b3a1-0242ac1c000c\"]);\n",
              "//# sourceURL=js_0ffe534b2a"
            ]
          },
          "metadata": {}
        },
        {
          "output_type": "display_data",
          "data": {
            "text/plain": [
              "<IPython.core.display.Javascript object>"
            ],
            "application/javascript": [
              "window[\"c134fd44-2ceb-11ef-b3a1-0242ac1c000c\"] = google.colab.output.getActiveOutputArea();\n",
              "//# sourceURL=js_5498392ec3"
            ]
          },
          "metadata": {}
        },
        {
          "output_type": "display_data",
          "data": {
            "text/plain": [
              "<IPython.core.display.Javascript object>"
            ],
            "application/javascript": [
              "window[\"c13546b4-2ceb-11ef-b3a1-0242ac1c000c\"] = document.querySelector(\"#id18-0-1\");\n",
              "//# sourceURL=js_30e6275d11"
            ]
          },
          "metadata": {}
        },
        {
          "output_type": "display_data",
          "data": {
            "text/plain": [
              "<IPython.core.display.Javascript object>"
            ],
            "application/javascript": [
              "window[\"c1358660-2ceb-11ef-b3a1-0242ac1c000c\"] = google.colab.output.setActiveOutputArea(window[\"c13546b4-2ceb-11ef-b3a1-0242ac1c000c\"]);\n",
              "//# sourceURL=js_49494c415e"
            ]
          },
          "metadata": {}
        },
        {
          "output_type": "stream",
          "name": "stdout",
          "text": [
            "\n",
            "X\n",
            "\n"
          ]
        },
        {
          "output_type": "display_data",
          "data": {
            "text/plain": [
              "Button(description='7', style=ButtonStyle())"
            ],
            "application/vnd.jupyter.widget-view+json": {
              "version_major": 2,
              "version_minor": 0,
              "model_id": "148b203671c847d384cc8384b427ad85"
            }
          },
          "metadata": {}
        },
        {
          "output_type": "display_data",
          "data": {
            "text/plain": [
              "<IPython.core.display.Javascript object>"
            ],
            "application/javascript": [
              "window[\"c136c1b0-2ceb-11ef-b3a1-0242ac1c000c\"] = google.colab.output.setActiveOutputArea(window[\"c134fd44-2ceb-11ef-b3a1-0242ac1c000c\"]);\n",
              "//# sourceURL=js_1ee5a67a6e"
            ]
          },
          "metadata": {}
        },
        {
          "output_type": "display_data",
          "data": {
            "text/plain": [
              "<IPython.core.display.Javascript object>"
            ],
            "application/javascript": [
              "window[\"c138578c-2ceb-11ef-b3a1-0242ac1c000c\"] = google.colab.output.getActiveOutputArea();\n",
              "//# sourceURL=js_ab0b4d965b"
            ]
          },
          "metadata": {}
        },
        {
          "output_type": "display_data",
          "data": {
            "text/plain": [
              "<IPython.core.display.Javascript object>"
            ],
            "application/javascript": [
              "window[\"c1389f80-2ceb-11ef-b3a1-0242ac1c000c\"] = document.querySelector(\"#id18-0-2\");\n",
              "//# sourceURL=js_1ce4a38b32"
            ]
          },
          "metadata": {}
        },
        {
          "output_type": "display_data",
          "data": {
            "text/plain": [
              "<IPython.core.display.Javascript object>"
            ],
            "application/javascript": [
              "window[\"c138e56c-2ceb-11ef-b3a1-0242ac1c000c\"] = google.colab.output.setActiveOutputArea(window[\"c1389f80-2ceb-11ef-b3a1-0242ac1c000c\"]);\n",
              "//# sourceURL=js_646dc67b9c"
            ]
          },
          "metadata": {}
        },
        {
          "output_type": "stream",
          "name": "stdout",
          "text": [
            "\n",
            "X\n",
            "\n"
          ]
        },
        {
          "output_type": "display_data",
          "data": {
            "text/plain": [
              "Button(description='8', style=ButtonStyle())"
            ],
            "application/vnd.jupyter.widget-view+json": {
              "version_major": 2,
              "version_minor": 0,
              "model_id": "3f546290536a47faa3d9428b62ed8b75"
            }
          },
          "metadata": {}
        },
        {
          "output_type": "display_data",
          "data": {
            "text/plain": [
              "<IPython.core.display.Javascript object>"
            ],
            "application/javascript": [
              "window[\"c13a2a26-2ceb-11ef-b3a1-0242ac1c000c\"] = google.colab.output.setActiveOutputArea(window[\"c138578c-2ceb-11ef-b3a1-0242ac1c000c\"]);\n",
              "//# sourceURL=js_5be4966da2"
            ]
          },
          "metadata": {}
        },
        {
          "output_type": "display_data",
          "data": {
            "text/plain": [
              "<Figure size 1290.83x869.556 with 1 Axes>"
            ],
            "image/png": "[encoded data removed]"
          },
          "metadata": {}
        }
      ]
    },
    {
      "cell_type": "code",
      "source": [
        "pip show pylatexenc\n"
      ],
      "metadata": {
        "id": "XiJSqXqkhYGd",
        "colab": {
          "base_uri": "https://localhost:8080/"
        },
        "outputId": "9af00f8e-2078-49b2-9a45-0fd4ca40dc4a"
      },
      "execution_count": null,
      "outputs": [
        {
          "output_type": "stream",
          "name": "stdout",
          "text": [
            "Name: pylatexenc\n",
            "Version: 2.10\n",
            "Summary: Simple LaTeX parser providing latex-to-unicode and unicode-to-latex conversion\n",
            "Home-page: https://github.com/phfaist/pylatexenc\n",
            "Author: Philippe Faist\n",
            "Author-email: philippe.faist@bluewin.ch\n",
            "License: MIT\n",
            "Location: /usr/local/lib/python3.10/dist-packages\n",
            "Requires: \n",
            "Required-by: \n"
          ]
        }
      ]
    }
  ]
}