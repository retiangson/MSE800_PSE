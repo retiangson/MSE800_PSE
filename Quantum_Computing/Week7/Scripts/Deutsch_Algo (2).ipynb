{
 "cells": [
  {
   "cell_type": "code",
   "execution_count": 4,
   "id": "73fce463-0a0b-4f56-99d3-0f7779c00655",
   "metadata": {},
   "outputs": [
    {
     "name": "stdout",
     "output_type": "stream",
     "text": [
      "Circuit:\n",
      "      ┌       ┐\n",
      "      │0 1 0 0│\n",
      "0: ───│1 0 0 0│───\n",
      "      │0 0 1 0│\n",
      "      │0 0 0 1│\n",
      "      └       ┘\n",
      "      │\n",
      "1: ───#2──────────\n",
      "\n",
      "Final state vector:\n",
      "[0.+0.j 1.+0.j 0.+0.j 0.+0.j]\n"
     ]
    }
   ],
   "source": [
    "import cirq\n",
    "import numpy as np\n",
    "\n",
    "# Define the unitary matrix\n",
    "matrix = np.array([\n",
    "    [0, 1, 0, 0],\n",
    "    [1, 0, 0, 0],\n",
    "    [0, 0, 1, 0],\n",
    "    [0, 0, 0, 1]\n",
    "])\n",
    "\n",
    "# Create the MatrixGate from the unitary matrix\n",
    "matrix_gate = cirq.MatrixGate(matrix)\n",
    "\n",
    "# Create the qubits\n",
    "qubits = cirq.LineQubit.range(2)\n",
    "\n",
    "# Create the circuit\n",
    "circuit = cirq.Circuit()\n",
    "\n",
    "# Apply the MatrixGate to the qubits\n",
    "circuit.append(matrix_gate.on(*qubits))\n",
    "\n",
    "# Simulate the circuit\n",
    "simulator = cirq.Simulator()\n",
    "\n",
    "# Run the simulation and print the results\n",
    "print(\"Circuit:\")\n",
    "print(circuit)\n",
    "\n",
    "result = simulator.simulate(circuit)\n",
    "print(\"\\nFinal state vector:\")\n",
    "print(result.final_state_vector)\n"
   ]
  },
  {
   "cell_type": "code",
   "execution_count": 3,
   "id": "5c46f0d1-2501-4861-afe5-0402a3a975b5",
   "metadata": {},
   "outputs": [
    {
     "name": "stdout",
     "output_type": "stream",
     "text": [
      "Enter the 16 comma-separated values for the 4x4 unitary matrix:\n"
     ]
    },
    {
     "name": "stdin",
     "output_type": "stream",
     "text": [
      "  0,1,0,0,1,0,0,0,0,0,1,0,0,0,0,1\n"
     ]
    },
    {
     "name": "stdout",
     "output_type": "stream",
     "text": [
      "Measurement outcomes: [1, 1, 1, 1, 1, 1, 1, 1, 1, 1]\n",
      "Function type: balanced\n",
      "\n",
      "Circuit:\n",
      "              ┌           ┐\n",
      "              │0. 1. 0. 0.│\n",
      "0: ───H───────│1. 0. 0. 0.│───H───M('result')───\n",
      "              │0. 0. 1. 0.│\n",
      "              │0. 0. 0. 1.│\n",
      "              └           ┘\n",
      "              │\n",
      "1: ───X───H───#2────────────────────────────────\n"
     ]
    }
   ],
   "source": [
    "import cirq\n",
    "import numpy as np\n",
    "\n",
    "# Function to create an oracle gate from a given unitary matrix\n",
    "def create_oracle_gate(oracle_matrix):\n",
    "    return cirq.MatrixGate(oracle_matrix)\n",
    "\n",
    "# Function to prompt the user to input a 4x4 unitary matrix\n",
    "def input_unitary_matrix():\n",
    "    print(\"Enter the 16 comma-separated values for the 4x4 unitary matrix:\")\n",
    "    matrix_values = input().strip().split(',')\n",
    "    oracle_matrix = np.array([[float(matrix_values[i]) for i in range(4)],\n",
    "                              [float(matrix_values[i]) for i in range(4, 8)],\n",
    "                              [float(matrix_values[i]) for i in range(8, 12)],\n",
    "                              [float(matrix_values[i]) for i in range(12, 16)]])\n",
    "    return oracle_matrix\n",
    "\n",
    "# Define Deutsch's algorithm\n",
    "def deutsch_algorithm(oracle_gate):\n",
    "    # Define qubits\n",
    "    qubits = cirq.LineQubit.range(2)\n",
    "\n",
    "    # Create a quantum circuit\n",
    "    circuit = cirq.Circuit()\n",
    "\n",
    "    # Apply Hadamard gate to both qubits to create superposition\n",
    "    circuit.append(cirq.X(qubits[1]))\n",
    "    circuit.append([cirq.H(q) for q in qubits])\n",
    "\n",
    "    # Apply the oracle gate\n",
    "    circuit.append(oracle_gate(*qubits[:2]))\n",
    "\n",
    "    # Apply Hadamard gate to the first qubit only\n",
    "    circuit.append(cirq.H(qubits[0]))\n",
    "\n",
    "    # Measure the first qubit\n",
    "    circuit.append(cirq.measure(qubits[0], key='result'))\n",
    "\n",
    "    return circuit\n",
    "\n",
    "# Prompt the user to input the 4x4 unitary matrix\n",
    "oracle_matrix = input_unitary_matrix()\n",
    "\n",
    "# Create the oracle gate from the user-defined unitary matrix\n",
    "oracle_gate = create_oracle_gate(oracle_matrix)\n",
    "\n",
    "# Run Deutsch's algorithm with the user-defined oracle gate\n",
    "circuit = deutsch_algorithm(oracle_gate)\n",
    "\n",
    "simulator = cirq.Simulator()\n",
    "measurement_outcomes = []\n",
    "\n",
    "for _ in range(10):\n",
    "    result = simulator.run(circuit)\n",
    "    measurement_outcome = result.measurements['result'][0][0]\n",
    "    measurement_outcomes.append(measurement_outcome)\n",
    "\n",
    "# Print all measurement outcomes\n",
    "print(\"Measurement outcomes:\", measurement_outcomes)\n",
    "\n",
    "# Determine the type of function based on the measurement outcomes\n",
    "function_type = \"constant\" if all(outcome == 0 for outcome in measurement_outcomes) else \"balanced\"\n",
    "print(\"Function type:\", function_type)\n",
    "\n",
    "# Print the circuit\n",
    "print(\"\\nCircuit:\")\n",
    "print(circuit)\n"
   ]
  },
  {
   "cell_type": "code",
   "execution_count": null,
   "id": "d8399267-60f7-4447-88d3-55b3fe53bb4b",
   "metadata": {},
   "outputs": [],
   "source": []
  }
 ],
 "metadata": {
  "kernelspec": {
   "display_name": "Python 3 (ipykernel)",
   "language": "python",
   "name": "python3"
  },
  "language_info": {
   "codemirror_mode": {
    "name": "ipython",
    "version": 3
   },
   "file_extension": ".py",
   "mimetype": "text/x-python",
   "name": "python",
   "nbconvert_exporter": "python",
   "pygments_lexer": "ipython3",
   "version": "3.12.3"
  }
 },
 "nbformat": 4,
 "nbformat_minor": 5
}
