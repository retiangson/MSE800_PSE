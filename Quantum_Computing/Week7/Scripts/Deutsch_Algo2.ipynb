{
 "cells": [
  {
   "cell_type": "code",
   "execution_count": null,
   "id": "3158df4e",
   "metadata": {},
   "outputs": [
    {
     "name": "stdout",
     "output_type": "stream",
     "text": [
      "Enter the 16 comma-separated values for the 4x4 unitary matrix:\n"
     ]
    },
    {
     "ename": "ValueError",
     "evalue": "could not convert string to float: ''",
     "output_type": "error",
     "traceback": [
      "\u001b[1;31m---------------------------------------------------------------------------\u001b[0m",
      "\u001b[1;31mValueError\u001b[0m                                Traceback (most recent call last)",
      "Cell \u001b[1;32mIn[3], line 47\u001b[0m\n\u001b[0;32m     44\u001b[0m     \u001b[38;5;28;01mreturn\u001b[39;00m qc\n\u001b[0;32m     46\u001b[0m \u001b[38;5;66;03m# --- Run simulation ---\u001b[39;00m\n\u001b[1;32m---> 47\u001b[0m oracle_matrix \u001b[38;5;241m=\u001b[39m \u001b[43minput_unitary_matrix\u001b[49m\u001b[43m(\u001b[49m\u001b[43m)\u001b[49m\n\u001b[0;32m     48\u001b[0m oracle_gate \u001b[38;5;241m=\u001b[39m create_oracle_gate(oracle_matrix)\n\u001b[0;32m     49\u001b[0m qc \u001b[38;5;241m=\u001b[39m deutsch_algorithm(oracle_gate)\n",
      "Cell \u001b[1;32mIn[3], line 18\u001b[0m, in \u001b[0;36minput_unitary_matrix\u001b[1;34m()\u001b[0m\n\u001b[0;32m     15\u001b[0m \u001b[38;5;28mprint\u001b[39m(\u001b[38;5;124m\"\u001b[39m\u001b[38;5;124mEnter the 16 comma-separated values for the 4x4 unitary matrix:\u001b[39m\u001b[38;5;124m\"\u001b[39m)\n\u001b[0;32m     16\u001b[0m matrix_values \u001b[38;5;241m=\u001b[39m \u001b[38;5;28minput\u001b[39m()\u001b[38;5;241m.\u001b[39mstrip()\u001b[38;5;241m.\u001b[39msplit(\u001b[38;5;124m'\u001b[39m\u001b[38;5;124m,\u001b[39m\u001b[38;5;124m'\u001b[39m)\n\u001b[0;32m     17\u001b[0m oracle_matrix \u001b[38;5;241m=\u001b[39m np\u001b[38;5;241m.\u001b[39marray([\n\u001b[1;32m---> 18\u001b[0m     [\u001b[38;5;28mfloat\u001b[39m(matrix_values[i]) \u001b[38;5;28;01mfor\u001b[39;00m i \u001b[38;5;129;01min\u001b[39;00m \u001b[38;5;28mrange\u001b[39m(\u001b[38;5;241m4\u001b[39m)],\n\u001b[0;32m     19\u001b[0m     [\u001b[38;5;28mfloat\u001b[39m(matrix_values[i]) \u001b[38;5;28;01mfor\u001b[39;00m i \u001b[38;5;129;01min\u001b[39;00m \u001b[38;5;28mrange\u001b[39m(\u001b[38;5;241m4\u001b[39m, \u001b[38;5;241m8\u001b[39m)],\n\u001b[0;32m     20\u001b[0m     [\u001b[38;5;28mfloat\u001b[39m(matrix_values[i]) \u001b[38;5;28;01mfor\u001b[39;00m i \u001b[38;5;129;01min\u001b[39;00m \u001b[38;5;28mrange\u001b[39m(\u001b[38;5;241m8\u001b[39m, \u001b[38;5;241m12\u001b[39m)],\n\u001b[0;32m     21\u001b[0m     [\u001b[38;5;28mfloat\u001b[39m(matrix_values[i]) \u001b[38;5;28;01mfor\u001b[39;00m i \u001b[38;5;129;01min\u001b[39;00m \u001b[38;5;28mrange\u001b[39m(\u001b[38;5;241m12\u001b[39m, \u001b[38;5;241m16\u001b[39m)]\n\u001b[0;32m     22\u001b[0m ])\n\u001b[0;32m     23\u001b[0m \u001b[38;5;28;01mreturn\u001b[39;00m oracle_matrix\n",
      "Cell \u001b[1;32mIn[3], line 18\u001b[0m, in \u001b[0;36m<listcomp>\u001b[1;34m(.0)\u001b[0m\n\u001b[0;32m     15\u001b[0m \u001b[38;5;28mprint\u001b[39m(\u001b[38;5;124m\"\u001b[39m\u001b[38;5;124mEnter the 16 comma-separated values for the 4x4 unitary matrix:\u001b[39m\u001b[38;5;124m\"\u001b[39m)\n\u001b[0;32m     16\u001b[0m matrix_values \u001b[38;5;241m=\u001b[39m \u001b[38;5;28minput\u001b[39m()\u001b[38;5;241m.\u001b[39mstrip()\u001b[38;5;241m.\u001b[39msplit(\u001b[38;5;124m'\u001b[39m\u001b[38;5;124m,\u001b[39m\u001b[38;5;124m'\u001b[39m)\n\u001b[0;32m     17\u001b[0m oracle_matrix \u001b[38;5;241m=\u001b[39m np\u001b[38;5;241m.\u001b[39marray([\n\u001b[1;32m---> 18\u001b[0m     [\u001b[38;5;28;43mfloat\u001b[39;49m\u001b[43m(\u001b[49m\u001b[43mmatrix_values\u001b[49m\u001b[43m[\u001b[49m\u001b[43mi\u001b[49m\u001b[43m]\u001b[49m\u001b[43m)\u001b[49m \u001b[38;5;28;01mfor\u001b[39;00m i \u001b[38;5;129;01min\u001b[39;00m \u001b[38;5;28mrange\u001b[39m(\u001b[38;5;241m4\u001b[39m)],\n\u001b[0;32m     19\u001b[0m     [\u001b[38;5;28mfloat\u001b[39m(matrix_values[i]) \u001b[38;5;28;01mfor\u001b[39;00m i \u001b[38;5;129;01min\u001b[39;00m \u001b[38;5;28mrange\u001b[39m(\u001b[38;5;241m4\u001b[39m, \u001b[38;5;241m8\u001b[39m)],\n\u001b[0;32m     20\u001b[0m     [\u001b[38;5;28mfloat\u001b[39m(matrix_values[i]) \u001b[38;5;28;01mfor\u001b[39;00m i \u001b[38;5;129;01min\u001b[39;00m \u001b[38;5;28mrange\u001b[39m(\u001b[38;5;241m8\u001b[39m, \u001b[38;5;241m12\u001b[39m)],\n\u001b[0;32m     21\u001b[0m     [\u001b[38;5;28mfloat\u001b[39m(matrix_values[i]) \u001b[38;5;28;01mfor\u001b[39;00m i \u001b[38;5;129;01min\u001b[39;00m \u001b[38;5;28mrange\u001b[39m(\u001b[38;5;241m12\u001b[39m, \u001b[38;5;241m16\u001b[39m)]\n\u001b[0;32m     22\u001b[0m ])\n\u001b[0;32m     23\u001b[0m \u001b[38;5;28;01mreturn\u001b[39;00m oracle_matrix\n",
      "\u001b[1;31mValueError\u001b[0m: could not convert string to float: ''"
     ]
    }
   ],
   "source": [
    "from qiskit import QuantumCircuit, transpile\n",
    "from qiskit_aer import Aer\n",
    "import numpy as np\n",
    "\n",
    "# --- Create oracle gate from user-defined matrix ---\n",
    "def create_oracle_gate(oracle_matrix):\n",
    "    \"\"\"\n",
    "    Takes a 4x4 unitary matrix and wraps it as a Gate in Qiskit.\n",
    "    \"\"\"\n",
    "    from qiskit.extensions.unitary import UnitaryGate\n",
    "    return UnitaryGate(oracle_matrix, label=\"Oracle\")\n",
    "\n",
    "# --- Prompt user for 4x4 matrix ---\n",
    "def input_unitary_matrix():\n",
    "    print(\"Enter the 16 comma-separated values for the 4x4 unitary matrix:\")\n",
    "    matrix_values = input().strip().split(',')\n",
    "    oracle_matrix = np.array([\n",
    "        [float(matrix_values[i]) for i in range(4)],\n",
    "        [float(matrix_values[i]) for i in range(4, 8)],\n",
    "        [float(matrix_values[i]) for i in range(8, 12)],\n",
    "        [float(matrix_values[i]) for i in range(12, 16)]\n",
    "    ])\n",
    "    return oracle_matrix\n",
    "\n",
    "# --- Deutsch's Algorithm ---\n",
    "def deutsch_algorithm(oracle_gate):\n",
    "    qc = QuantumCircuit(2, 1)\n",
    "\n",
    "    # Initialize output qubit in |1>\n",
    "    qc.x(1)\n",
    "\n",
    "    # Hadamard on both qubits\n",
    "    qc.h([0, 1])\n",
    "\n",
    "    # Apply oracle\n",
    "    qc.append(oracle_gate, [0, 1])\n",
    "\n",
    "    # Hadamard on input qubit only\n",
    "    qc.h(0)\n",
    "\n",
    "    # Measure first qubit\n",
    "    qc.measure(0, 0)\n",
    "\n",
    "    return qc\n",
    "\n",
    "# --- Run simulation ---\n",
    "oracle_matrix = input_unitary_matrix()\n",
    "oracle_gate = create_oracle_gate(oracle_matrix)\n",
    "qc = deutsch_algorithm(oracle_gate)\n",
    "\n",
    "simulator = Aer.get_backend(\"qasm_simulator\")\n",
    "compiled = transpile(qc, simulator)\n",
    "result = simulator.run(compiled, shots=10).result()\n",
    "counts = result.get_counts()\n",
    "\n",
    "print(\"Measurement outcomes:\", counts)\n",
    "\n",
    "# Determine constant or balanced\n",
    "function_type = \"constant\" if \"0\" in counts and counts[\"0\"] == 10 else \"balanced\"\n",
    "print(\"Function type:\", function_type)\n",
    "\n",
    "print(\"\\nCircuit:\")\n",
    "print(qc.draw())\n"
   ]
  }
 ],
 "metadata": {
  "kernelspec": {
   "display_name": "Python 3",
   "language": "python",
   "name": "python3"
  },
  "language_info": {
   "codemirror_mode": {
    "name": "ipython",
    "version": 3
   },
   "file_extension": ".py",
   "mimetype": "text/x-python",
   "name": "python",
   "nbconvert_exporter": "python",
   "pygments_lexer": "ipython3",
   "version": "3.10.8"
  }
 },
 "nbformat": 4,
 "nbformat_minor": 5
}
