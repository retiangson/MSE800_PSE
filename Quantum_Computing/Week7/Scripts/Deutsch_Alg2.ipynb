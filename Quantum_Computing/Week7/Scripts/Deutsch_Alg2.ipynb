{
 "cells": [
  {
   "cell_type": "code",
   "execution_count": 1,
   "id": "913894af",
   "metadata": {},
   "outputs": [
    {
     "name": "stdout",
     "output_type": "stream",
     "text": [
      "Enter the 16 comma-separated values for the 4x4 unitary matrix:\n",
      "Measurement outcomes: {'0': 10}\n",
      "Function type: constant\n",
      "\n",
      "Circuit:\n",
      "     ┌───┐     ┌─────────┐┌───┐┌─┐\n",
      "q_0: ┤ H ├─────┤0        ├┤ H ├┤M├\n",
      "     ├───┤┌───┐│  Oracle │└───┘└╥┘\n",
      "q_1: ┤ X ├┤ H ├┤1        ├──────╫─\n",
      "     └───┘└───┘└─────────┘      ║ \n",
      "c: 1/═══════════════════════════╩═\n",
      "                                0 \n"
     ]
    }
   ],
   "source": [
    "from qiskit import QuantumCircuit, transpile\n",
    "from qiskit_aer import Aer\n",
    "from qiskit.circuit.library import UnitaryGate\n",
    "import numpy as np\n",
    "\n",
    "# --- Create oracle gate from user-defined matrix ---\n",
    "def create_oracle_gate(oracle_matrix):\n",
    "    \"\"\"\n",
    "    Takes a 4x4 unitary matrix and wraps it as a Gate in Qiskit.\n",
    "    \"\"\"\n",
    "    return UnitaryGate(oracle_matrix, label=\"Oracle\")\n",
    "\n",
    "# --- Prompt user for 4x4 matrix ---\n",
    "def input_unitary_matrix():\n",
    "    print(\"Enter the 16 comma-separated values for the 4x4 unitary matrix:\")\n",
    "    #matrix_values = input().strip().split(',')\n",
    "    matrix_values = \"1,0,0,0, 0,1,0,0, 0,0,1,0, 0,0,0,1\".split(',')\n",
    "    oracle_matrix = np.array([\n",
    "        [float(matrix_values[i]) for i in range(4)],\n",
    "        [float(matrix_values[i]) for i in range(4, 8)],\n",
    "        [float(matrix_values[i]) for i in range(8, 12)],\n",
    "        [float(matrix_values[i]) for i in range(12, 16)]\n",
    "    ])\n",
    "    return oracle_matrix\n",
    "\n",
    "# --- Deutsch's Algorithm ---\n",
    "def deutsch_algorithm(oracle_gate):\n",
    "    qc = QuantumCircuit(2, 1)\n",
    "\n",
    "    # Initialize output qubit in |1>\n",
    "    qc.x(1)\n",
    "\n",
    "    # Hadamard on both qubits\n",
    "    qc.h([0, 1])\n",
    "\n",
    "    # Apply oracle\n",
    "    qc.append(oracle_gate, [0, 1])\n",
    "\n",
    "    # Hadamard on input qubit only\n",
    "    qc.h(0)\n",
    "\n",
    "    # Measure first qubit\n",
    "    qc.measure(0, 0)\n",
    "\n",
    "    return qc\n",
    "\n",
    "# --- Run simulation ---\n",
    "oracle_matrix = input_unitary_matrix()\n",
    "oracle_gate = create_oracle_gate(oracle_matrix)\n",
    "qc = deutsch_algorithm(oracle_gate)\n",
    "\n",
    "simulator = Aer.get_backend(\"qasm_simulator\")\n",
    "compiled = transpile(qc, simulator)\n",
    "result = simulator.run(compiled, shots=10).result()\n",
    "counts = result.get_counts()\n",
    "\n",
    "print(\"Measurement outcomes:\", counts)\n",
    "\n",
    "# Determine constant or balanced\n",
    "function_type = \"constant\" if \"0\" in counts and counts[\"0\"] == 10 else \"balanced\"\n",
    "print(\"Function type:\", function_type)\n",
    "\n",
    "print(\"\\nCircuit:\")\n",
    "print(qc.draw())\n"
   ]
  },
  {
   "cell_type": "code",
   "execution_count": null,
   "id": "52f856f6",
   "metadata": {},
   "outputs": [],
   "source": []
  }
 ],
 "metadata": {
  "kernelspec": {
   "display_name": "Python 3",
   "language": "python",
   "name": "python3"
  },
  "language_info": {
   "codemirror_mode": {
    "name": "ipython",
    "version": 3
   },
   "file_extension": ".py",
   "mimetype": "text/x-python",
   "name": "python",
   "nbconvert_exporter": "python",
   "pygments_lexer": "ipython3",
   "version": "3.10.8"
  }
 },
 "nbformat": 4,
 "nbformat_minor": 5
}
