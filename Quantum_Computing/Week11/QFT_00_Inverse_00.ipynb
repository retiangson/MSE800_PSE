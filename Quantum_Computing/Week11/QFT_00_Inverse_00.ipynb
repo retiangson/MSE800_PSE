{
 "cells": [
  {
   "cell_type": "code",
   "execution_count": null,
   "id": "0bb41a5b-a74a-4f61-9790-7dfa6b04aeb0",
   "metadata": {},
   "outputs": [],
   "source": []
  },
  {
   "cell_type": "code",
   "execution_count": 13,
   "id": "e1a75df7-ea51-453a-be6d-ec23af1992b6",
   "metadata": {},
   "outputs": [
    {
     "name": "stdout",
     "output_type": "stream",
     "text": [
      "State Vector:\n",
      "Statevector([0.5+0.j, 0.5+0.j, 0.5+0.j, 0.5+0.j],\n",
      "            dims=(2, 2))\n"
     ]
    },
    {
     "data": {
      "text/latex": [
       "$$\\frac{1}{2} |00\\rangle+\\frac{1}{2} |01\\rangle+\\frac{1}{2} |10\\rangle+\\frac{1}{2} |11\\rangle$$"
      ],
      "text/plain": [
       "<IPython.core.display.Latex object>"
      ]
     },
     "execution_count": 13,
     "metadata": {},
     "output_type": "execute_result"
    }
   ],
   "source": [
    "from qiskit import QuantumCircuit\n",
    "from qiskit.quantum_info import Statevector\n",
    "from qiskit.visualization import plot_bloch_multivector\n",
    "from qiskit_aer import AerSimulator\n",
    "from qiskit.visualization import plot_histogram, plot_state_city\n",
    "from qiskit import QuantumRegister, ClassicalRegister, QuantumCircuit\n",
    "import math\n",
    "from qiskit.circuit.library import QFT\n",
    "\n",
    "import numpy as np\n",
    "\n",
    "# Create a Quantum Circuit with 2 qubits\n",
    "qc = QuantumCircuit(2)\n",
    "\n",
    "# Apply Hadamard gate to qubit 0\n",
    "qc.h(0)\n",
    "\n",
    "# Apply Controlled Phase gate between qubits 0 and 1\n",
    "qc.cp(np.pi/2, 0, 1)\n",
    "\n",
    "# Apply Hadamard gate to qubit 1\n",
    "qc.h(1)\n",
    "\n",
    "# Swap qubits 0 and 1\n",
    "qc.swap(0, 1)\n",
    "\n",
    "statevector = Statevector(qc)\n",
    "\n",
    "#statevector = Statevector(qc_init)\n",
    "# Print the state vector\n",
    "print(\"State Vector:\")\n",
    "print(statevector)\n",
    "statevector.draw(\"latex\")\n",
    "\n",
    "\n"
   ]
  },
  {
   "cell_type": "code",
   "execution_count": 14,
   "id": "bad451ea-d940-4f43-b331-3cad3edffe62",
   "metadata": {},
   "outputs": [
    {
     "name": "stdout",
     "output_type": "stream",
     "text": [
      "State Vector:\n",
      "Statevector([1.00000000e+00+0.00000000e+00j,\n",
      "             1.62588398e-17-1.62588398e-17j,\n",
      "             6.22328532e-19+0.00000000e+00j,\n",
      "             1.62588398e-17+1.62588398e-17j],\n",
      "            dims=(2, 2))\n"
     ]
    },
    {
     "data": {
      "text/latex": [
       "$$ |00\\rangle$$"
      ],
      "text/plain": [
       "<IPython.core.display.Latex object>"
      ]
     },
     "execution_count": 14,
     "metadata": {},
     "output_type": "execute_result"
    }
   ],
   "source": [
    "# Draw the QFT circuit\n",
    "#qc.draw('mpl')\n",
    "\n",
    "#Apply IQFT (Inverse QFT) by manually implementing it\n",
    "\n",
    "\n",
    "# Apply Hadamard gate to qubit 1 (reverse of QFT)\n",
    "qc.h(1)\n",
    "\n",
    "# Apply Controlled Phase gate between qubits 0 and 1 (reverse of QFT)\n",
    "qc.cp(-np.pi/2, 0, 1)\n",
    "\n",
    "# Apply Hadamard gate to qubit 0 (reverse of QFT)\n",
    "qc.h(0)\n",
    "\n",
    "# Swap qubits 0 and 1 (reverse of QFT)\n",
    "qc.swap(0, 1)\n",
    "\n",
    "\n",
    "\n",
    "\n",
    "\n",
    "# Use the simulator to run the combined circuit\n",
    "simulator = AerSimulator()\n",
    "# Simulate the circuit\n",
    "job = simulator.run(qc, shots=10000)\n",
    "\n",
    "# Get the result\n",
    "result = job.result()\n",
    "\n",
    "\n",
    "statevector = Statevector(qc)\n",
    "\n",
    "#statevector = Statevector(qc_init)\n",
    "# Print the state vector\n",
    "print(\"State Vector:\")\n",
    "print(statevector)\n",
    "statevector.draw(\"latex\")\n"
   ]
  },
  {
   "cell_type": "code",
   "execution_count": 15,
   "id": "84092508-9aa7-4c19-99b6-4549b4ea07d3",
   "metadata": {},
   "outputs": [
    {
     "data": {
      "image/png": "[encoded data removed]",
      "text/plain": [
       "<Figure size 956.183x200.667 with 1 Axes>"
      ]
     },
     "execution_count": 15,
     "metadata": {},
     "output_type": "execute_result"
    }
   ],
   "source": [
    "# Draw the combined circuit\n",
    "qc.draw('mpl')"
   ]
  },
  {
   "cell_type": "code",
   "execution_count": null,
   "id": "ce29ac0b-dace-4048-a927-9c3bf7026926",
   "metadata": {},
   "outputs": [],
   "source": []
  }
 ],
 "metadata": {
  "kernelspec": {
   "display_name": "Python 3 (ipykernel)",
   "language": "python",
   "name": "python3"
  },
  "language_info": {
   "codemirror_mode": {
    "name": "ipython",
    "version": 3
   },
   "file_extension": ".py",
   "mimetype": "text/x-python",
   "name": "python",
   "nbconvert_exporter": "python",
   "pygments_lexer": "ipython3",
   "version": "3.12.7"
  }
 },
 "nbformat": 4,
 "nbformat_minor": 5
}
