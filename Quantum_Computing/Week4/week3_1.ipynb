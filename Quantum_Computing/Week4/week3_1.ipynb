{
 "cells": [
  {
   "cell_type": "code",
   "execution_count": 1,
   "id": "5b73104e-3524-4cea-aec5-c288a87574c1",
   "metadata": {},
   "outputs": [
    {
     "name": "stdout",
     "output_type": "stream",
     "text": [
      "Original Matrix:\n",
      "[[1.+0.j 2.+3.j 3.+0.j]\n",
      " [0.+4.j 5.+0.j 6.+0.j]]\n",
      "\n",
      "Transpose:\n",
      "[[1.+0.j 0.+4.j]\n",
      " [2.+3.j 5.+0.j]\n",
      " [3.+0.j 6.+0.j]]\n",
      "\n",
      "Conjugate Transpose (Hermitian Transpose):\n",
      "[[1.-0.j 0.-4.j]\n",
      " [2.-3.j 5.-0.j]\n",
      " [3.-0.j 6.-0.j]]\n",
      "\n",
      "Adjoint:\n",
      "[[1.-0.j 0.-4.j]\n",
      " [2.-3.j 5.-0.j]\n",
      " [3.-0.j 6.-0.j]]\n"
     ]
    }
   ],
   "source": [
    "# transpose conjugate, adjoint\n",
    "\n",
    "import numpy as np\n",
    "\n",
    "def transpose(matrix):\n",
    "    return np.transpose(matrix)\n",
    "\n",
    "def conjugate_transpose(matrix):\n",
    "    return np.conj(matrix.T)\n",
    "\n",
    "def adjoint(matrix):\n",
    "    return conjugate_transpose(matrix)\n",
    "\n",
    "# Example usage:\n",
    "matrix = np.array([[1, 2+3j, 3], [4j, 5, 6]])\n",
    "print(\"Original Matrix:\")\n",
    "print(matrix)\n",
    "\n",
    "print(\"\\nTranspose:\")\n",
    "print(transpose(matrix))\n",
    "\n",
    "print(\"\\nConjugate Transpose (Hermitian Transpose):\")\n",
    "print(conjugate_transpose(matrix))\n",
    "\n",
    "print(\"\\nAdjoint:\")\n",
    "print(adjoint(matrix))\n"
   ]
  },
  {
   "cell_type": "code",
   "execution_count": 2,
   "id": "5dfa65de-9298-472c-aa9d-26f13c2ab989",
   "metadata": {},
   "outputs": [
    {
     "name": "stdout",
     "output_type": "stream",
     "text": [
      "Matrix A:\n",
      "[[1 2 3]\n",
      " [4 5 6]]\n",
      "\n",
      "Matrix B:\n",
      "[[ 7  8]\n",
      " [ 9 10]\n",
      " [11 12]]\n",
      "\n",
      "Result of matrix multiplication (A * B):\n",
      "[[ 58  64]\n",
      " [139 154]]\n"
     ]
    }
   ],
   "source": [
    "# matrix multiplication\n",
    "\n",
    "import numpy as np\n",
    "\n",
    "def matrix_multiplication(matrix1, matrix2):\n",
    "    return np.dot(matrix1, matrix2)\n",
    "\n",
    "# Example matrices\n",
    "matrix_A = np.array([[1, 2, 3],\n",
    "                     [4, 5, 6]])\n",
    "\n",
    "matrix_B = np.array([[7, 8],\n",
    "                     [9, 10],\n",
    "                     [11, 12]])\n",
    "\n",
    "# Perform matrix multiplication\n",
    "result = matrix_multiplication(matrix_A, matrix_B)\n",
    "\n",
    "print(\"Matrix A:\")\n",
    "print(matrix_A)\n",
    "\n",
    "print(\"\\nMatrix B:\")\n",
    "print(matrix_B)\n",
    "\n",
    "print(\"\\nResult of matrix multiplication (A * B):\")\n",
    "print(result)\n"
   ]
  },
  {
   "cell_type": "code",
   "execution_count": 3,
   "id": "9a8fe1bd-c066-4fbf-a749-9a8e8f427ff1",
   "metadata": {},
   "outputs": [
    {
     "name": "stdout",
     "output_type": "stream",
     "text": [
      "Matrix A:\n",
      "[[1.+2.j 2.+3.j]\n",
      " [3.+4.j 4.+5.j]]\n",
      "\n",
      "Matrix B:\n",
      "[[5.+6.j 6.+7.j]\n",
      " [7.+8.j 8.+9.j]]\n",
      "\n",
      "Result of matrix multiplication (A * B):\n",
      "[[-17. +53.j -19. +61.j]\n",
      " [-21.+105.j -23.+121.j]]\n"
     ]
    }
   ],
   "source": [
    "import numpy as np\n",
    "\n",
    "def matrix_multiplication(matrix1, matrix2):\n",
    "    return np.dot(matrix1, matrix2)\n",
    "\n",
    "# Example matrices with complex entries\n",
    "matrix_A = np.array([[1+2j, 2+3j],\n",
    "                     [3+4j, 4+5j]])\n",
    "\n",
    "matrix_B = np.array([[5+6j, 6+7j],\n",
    "                     [7+8j, 8+9j]])\n",
    "\n",
    "# Perform matrix multiplication\n",
    "result = matrix_multiplication(matrix_A, matrix_B)\n",
    "\n",
    "print(\"Matrix A:\")\n",
    "print(matrix_A)\n",
    "\n",
    "print(\"\\nMatrix B:\")\n",
    "print(matrix_B)\n",
    "\n",
    "print(\"\\nResult of matrix multiplication (A * B):\")\n",
    "print(result)\n"
   ]
  },
  {
   "cell_type": "code",
   "execution_count": 4,
   "id": "1e743d02-01d6-4985-933b-79addd4157f4",
   "metadata": {},
   "outputs": [
    {
     "name": "stdout",
     "output_type": "stream",
     "text": [
      "Matrix A:\n",
      "[[1.+2.j 3.-1.j]\n",
      " [2.+1.j 4.-2.j]]\n",
      "\n",
      "Matrix B:\n",
      "[[3.-1.j 2.+2.j]\n",
      " [1.-2.j 2.-1.j]]\n",
      "\n",
      "AB:\n",
      "[[6.-2.j 3.+1.j]\n",
      " [7.-9.j 8.-2.j]]\n",
      "\n",
      "BA:\n",
      "[[ 7.+11.j 20. -2.j]\n",
      " [10. +0.j  7.-15.j]]\n",
      "\n",
      "AB and BA are not equal.\n"
     ]
    }
   ],
   "source": [
    "import numpy as np\n",
    "\n",
    "# Define matrices A and B\n",
    "A = np.array([[1+2j, 3-1j],\n",
    "              [2+1j, 4-2j]])\n",
    "\n",
    "B = np.array([[3-1j, 2+2j],\n",
    "              [1-2j, 2-1j]])\n",
    "\n",
    "# Calculate AB and BA\n",
    "AB = np.dot(A, B)\n",
    "BA = np.dot(B, A)\n",
    "\n",
    "# Check if AB is equal to BA\n",
    "equal_matrices = np.allclose(AB, BA)\n",
    "\n",
    "print(\"Matrix A:\")\n",
    "print(A)\n",
    "\n",
    "print(\"\\nMatrix B:\")\n",
    "print(B)\n",
    "\n",
    "print(\"\\nAB:\")\n",
    "print(AB)\n",
    "\n",
    "print(\"\\nBA:\")\n",
    "print(BA)\n",
    "\n",
    "if equal_matrices:\n",
    "    print(\"\\nAB and BA are equal.\")\n",
    "else:\n",
    "    print(\"\\nAB and BA are not equal.\")\n"
   ]
  },
  {
   "cell_type": "code",
   "execution_count": 5,
   "id": "b9fd7ff8-a89c-4d99-b874-04a1a5fb8232",
   "metadata": {},
   "outputs": [
    {
     "name": "stdout",
     "output_type": "stream",
     "text": [
      "Matrix:\n",
      "[[1 2 3]\n",
      " [4 5 6]\n",
      " [7 8 9]]\n",
      "\n",
      "Trace of the matrix: 15\n"
     ]
    }
   ],
   "source": [
    "import numpy as np\n",
    "\n",
    "# Define a square matrix\n",
    "matrix = np.array([[1, 2, 3],\n",
    "                   [4, 5, 6],\n",
    "                   [7, 8, 9]])\n",
    "\n",
    "# Calculate the trace of the matrix\n",
    "trace = np.trace(matrix)\n",
    "\n",
    "print(\"Matrix:\")\n",
    "print(matrix)\n",
    "\n",
    "print(\"\\nTrace of the matrix:\", trace)\n"
   ]
  },
  {
   "cell_type": "code",
   "execution_count": 6,
   "id": "0bc561b8-fdb4-458d-b10b-aa0992c2f8b5",
   "metadata": {},
   "outputs": [
    {
     "name": "stdout",
     "output_type": "stream",
     "text": [
      "Complex Matrix:\n",
      "[[1.+2.j 3.-1.j 2.+0.j]\n",
      " [0.+4.j 5.+0.j 6.+1.j]\n",
      " [7.-3.j 8.+0.j 9.+0.j]]\n",
      "\n",
      "Trace of the complex matrix: (15+2j)\n"
     ]
    }
   ],
   "source": [
    "import numpy as np\n",
    "\n",
    "# Define a complex square matrix\n",
    "complex_matrix = np.array([[1+2j, 3-1j, 2],\n",
    "                           [4j, 5, 6+1j],\n",
    "                           [7-3j, 8, 9]])\n",
    "\n",
    "# Calculate the trace of the complex matrix\n",
    "trace_complex = np.trace(complex_matrix)\n",
    "\n",
    "print(\"Complex Matrix:\")\n",
    "print(complex_matrix)\n",
    "\n",
    "print(\"\\nTrace of the complex matrix:\", trace_complex)\n"
   ]
  },
  {
   "cell_type": "code",
   "execution_count": 7,
   "id": "24870e2a-34f7-4a62-8a3e-e1c4b9b17e3f",
   "metadata": {},
   "outputs": [
    {
     "name": "stdout",
     "output_type": "stream",
     "text": [
      "Vector a: [1 2 3]\n",
      "Vector b: [4 5 6]\n",
      "\n",
      "Euclidean distance between the vectors: 5.196152422706632\n"
     ]
    }
   ],
   "source": [
    "import numpy as np\n",
    "\n",
    "def euclidean_distance(vector1, vector2):\n",
    "    return np.linalg.norm(vector1 - vector2)\n",
    "\n",
    "# Example vectors\n",
    "vector_a = np.array([1, 2, 3])\n",
    "vector_b = np.array([4, 5, 6])\n",
    "\n",
    "# Calculate the Euclidean distance between the vectors\n",
    "distance = euclidean_distance(vector_a, vector_b)\n",
    "\n",
    "print(\"Vector a:\", vector_a)\n",
    "print(\"Vector b:\", vector_b)\n",
    "print(\"\\nEuclidean distance between the vectors:\", distance)\n"
   ]
  },
  {
   "cell_type": "code",
   "execution_count": 8,
   "id": "06cf9199-1ba0-489b-8993-e8c45f587f5f",
   "metadata": {},
   "outputs": [
    {
     "name": "stdout",
     "output_type": "stream",
     "text": [
      "Complex Vector a: [1.+2.j 3.-1.j 2.+0.j]\n",
      "Complex Vector b: [0.+4.j 5.+0.j 6.+1.j]\n",
      "\n",
      "Euclidean distance between the complex vectors: 5.196152422706632\n"
     ]
    }
   ],
   "source": [
    "import numpy as np\n",
    "\n",
    "def euclidean_distance(vector1, vector2):\n",
    "    return np.linalg.norm(vector1 - vector2)\n",
    "\n",
    "# Example complex vectors\n",
    "vector_a = np.array([1+2j, 3-1j, 2])\n",
    "vector_b = np.array([4j, 5, 6+1j])\n",
    "\n",
    "# Calculate the Euclidean distance between the complex vectors\n",
    "distance = euclidean_distance(vector_a, vector_b)\n",
    "\n",
    "print(\"Complex Vector a:\", vector_a)\n",
    "print(\"Complex Vector b:\", vector_b)\n",
    "print(\"\\nEuclidean distance between the complex vectors:\", distance)\n"
   ]
  },
  {
   "cell_type": "code",
   "execution_count": 9,
   "id": "ff766e19-9615-4f52-b90e-7e3056510b37",
   "metadata": {},
   "outputs": [
    {
     "name": "stdout",
     "output_type": "stream",
     "text": [
      "Vector a: [1 0 0]\n",
      "Vector b: [0 1 0]\n",
      "\n",
      "The vectors are orthogonal.\n"
     ]
    }
   ],
   "source": [
    "import numpy as np\n",
    "\n",
    "def are_orthogonal(vector1, vector2):\n",
    "    dot_product = np.dot(vector1, vector2)\n",
    "    return np.isclose(dot_product, 0)\n",
    "\n",
    "# Example vectors\n",
    "vector_a = np.array([1, 0, 0])\n",
    "vector_b = np.array([0, 1, 0])\n",
    "\n",
    "# Check if the vectors are orthogonal\n",
    "orthogonal = are_orthogonal(vector_a, vector_b)\n",
    "\n",
    "print(\"Vector a:\", vector_a)\n",
    "print(\"Vector b:\", vector_b)\n",
    "\n",
    "if orthogonal:\n",
    "    print(\"\\nThe vectors are orthogonal.\")\n",
    "else:\n",
    "    print(\"\\nThe vectors are not orthogonal.\")\n"
   ]
  },
  {
   "cell_type": "code",
   "execution_count": 10,
   "id": "b78a9164-590c-41e3-bd0c-8709fad02fc3",
   "metadata": {},
   "outputs": [
    {
     "name": "stdout",
     "output_type": "stream",
     "text": [
      "Complex Vector a: [1.+2.j 0.-1.j 2.+0.j]\n",
      "Complex Vector b: [0.+1.j 1.+0.j 0.+2.j]\n",
      "\n",
      "The complex vectors are not orthogonal.\n"
     ]
    }
   ],
   "source": [
    "import numpy as np\n",
    "\n",
    "def are_orthogonal(vector1, vector2):\n",
    "    dot_product = np.vdot(vector1, vector2)\n",
    "    return np.isclose(dot_product, 0)\n",
    "\n",
    "# Example complex vectors\n",
    "vector_a = np.array([1+2j, 0-1j, 2])\n",
    "vector_b = np.array([0+1j, 1, 0+2j])\n",
    "\n",
    "# Check if the complex vectors are orthogonal\n",
    "orthogonal = are_orthogonal(vector_a, vector_b)\n",
    "\n",
    "print(\"Complex Vector a:\", vector_a)\n",
    "print(\"Complex Vector b:\", vector_b)\n",
    "\n",
    "if orthogonal:\n",
    "    print(\"\\nThe complex vectors are orthogonal.\")\n",
    "else:\n",
    "    print(\"\\nThe complex vectors are not orthogonal.\")\n"
   ]
  },
  {
   "cell_type": "code",
   "execution_count": 11,
   "id": "fd7a56b8-b035-4c3d-9877-c7b59cc2f8f5",
   "metadata": {},
   "outputs": [
    {
     "name": "stdout",
     "output_type": "stream",
     "text": [
      "The matrix is Hermitian.\n"
     ]
    }
   ],
   "source": [
    "import numpy as np\n",
    "\n",
    "def is_hermitian(matrix):\n",
    "    return np.allclose(matrix, np.conj(matrix.T))\n",
    "\n",
    "# Example matrix\n",
    "matrix_A = np.array([[1, 2+3j, 4],\n",
    "                     [2-3j, 5, 6],\n",
    "                     [4, 6, 7]])\n",
    "\n",
    "# Check if the matrix is Hermitian\n",
    "if is_hermitian(matrix_A):\n",
    "    print(\"The matrix is Hermitian.\")\n",
    "else:\n",
    "    print(\"The matrix is not Hermitian.\")\n",
    "\n"
   ]
  },
  {
   "cell_type": "code",
   "execution_count": 12,
   "id": "09ea32c7-fe9d-487a-ac71-95fe2604caf7",
   "metadata": {},
   "outputs": [
    {
     "name": "stdout",
     "output_type": "stream",
     "text": [
      "The matrix is unitary.\n"
     ]
    }
   ],
   "source": [
    "import numpy as np\n",
    "\n",
    "def is_unitary(matrix):\n",
    "    product = np.dot(matrix, np.conj(matrix.T))\n",
    "    identity = np.eye(matrix.shape[0])\n",
    "    return np.allclose(product, identity)\n",
    "\n",
    "# Example unitary matrix\n",
    "unitary_matrix = 1/np.sqrt(2) * np.array([[1, 1],\n",
    "                                          [1, -1]])\n",
    "\n",
    "# Check if the matrix is unitary\n",
    "if is_unitary(unitary_matrix):\n",
    "    print(\"The matrix is unitary.\")\n",
    "else:\n",
    "    print(\"The matrix is not unitary.\")\n"
   ]
  },
  {
   "cell_type": "code",
   "execution_count": 13,
   "id": "dda02d50-65c3-4f4d-8019-ff13c89939c3",
   "metadata": {},
   "outputs": [
    {
     "name": "stdout",
     "output_type": "stream",
     "text": [
      "Matrix A:\n",
      "[[1 2]\n",
      " [3 4]]\n",
      "\n",
      "Matrix B:\n",
      "[[5 6]\n",
      " [7 8]]\n",
      "\n",
      "Tensor product of A and B:\n",
      "[[ 5  6 10 12]\n",
      " [ 7  8 14 16]\n",
      " [15 18 20 24]\n",
      " [21 24 28 32]]\n"
     ]
    }
   ],
   "source": [
    "import numpy as np\n",
    "\n",
    "# Define matrices A and B\n",
    "A = np.array([[1, 2],\n",
    "              [3, 4]])\n",
    "\n",
    "B = np.array([[5, 6],\n",
    "              [7, 8]])\n",
    "\n",
    "# Compute the tensor product of A and B\n",
    "tensor_product = np.kron(A, B)\n",
    "\n",
    "print(\"Matrix A:\")\n",
    "print(A)\n",
    "\n",
    "print(\"\\nMatrix B:\")\n",
    "print(B)\n",
    "\n",
    "print(\"\\nTensor product of A and B:\")\n",
    "print(tensor_product)\n"
   ]
  },
  {
   "cell_type": "code",
   "execution_count": null,
   "id": "6e835ba2-b544-4a04-8cc5-fe9e3adf454b",
   "metadata": {},
   "outputs": [],
   "source": []
  }
 ],
 "metadata": {
  "kernelspec": {
   "display_name": "Python 3 (ipykernel)",
   "language": "python",
   "name": "python3"
  },
  "language_info": {
   "codemirror_mode": {
    "name": "ipython",
    "version": 3
   },
   "file_extension": ".py",
   "mimetype": "text/x-python",
   "name": "python",
   "nbconvert_exporter": "python",
   "pygments_lexer": "ipython3",
   "version": "3.12.3"
  }
 },
 "nbformat": 4,
 "nbformat_minor": 5
}
