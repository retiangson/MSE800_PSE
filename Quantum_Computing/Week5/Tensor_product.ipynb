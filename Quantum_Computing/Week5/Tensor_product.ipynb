{
 "cells": [
  {
   "cell_type": "code",
   "execution_count": 1,
   "id": "7993d9f3-2527-4f48-baea-65a7a8369db2",
   "metadata": {},
   "outputs": [
    {
     "name": "stdout",
     "output_type": "stream",
     "text": [
      "Matrix A:\n",
      "[[1 2]\n",
      " [3 4]]\n",
      "\n",
      "Matrix B:\n",
      "[[5 6]\n",
      " [7 8]]\n",
      "\n",
      "Tensor Product of A and B:\n",
      "[[[[ 5  6]\n",
      "   [ 7  8]]\n",
      "\n",
      "  [[10 12]\n",
      "   [14 16]]]\n",
      "\n",
      "\n",
      " [[[15 18]\n",
      "   [21 24]]\n",
      "\n",
      "  [[20 24]\n",
      "   [28 32]]]]\n"
     ]
    }
   ],
   "source": [
    "import numpy as np\n",
    "\n",
    "# Define two matrices\n",
    "A = np.array([[1, 2], [3, 4]])\n",
    "B = np.array([[5, 6], [7, 8]])\n",
    "\n",
    "# Compute the tensor product\n",
    "tensor_product = np.tensordot(A, B, axes=0)\n",
    "\n",
    "print(\"Matrix A:\")\n",
    "print(A)\n",
    "print(\"\\nMatrix B:\")\n",
    "print(B)\n",
    "print(\"\\nTensor Product of A and B:\")\n",
    "print(tensor_product)\n"
   ]
  },
  {
   "cell_type": "code",
   "execution_count": 4,
   "id": "347f30c2-e16d-4ba4-aa09-9f0c28d55623",
   "metadata": {},
   "outputs": [
    {
     "name": "stdout",
     "output_type": "stream",
     "text": [
      "Tensor product of |psi> and |phi> is:\n",
      "[[0.66+0.42j]\n",
      " [0.22+0.14j]\n",
      " [0.66-0.18j]\n",
      " [0.22-0.06j]]\n"
     ]
    }
   ],
   "source": [
    "import numpy as np\n",
    "\n",
    "# Define the coefficients as complex numbers for qubit A and qubit B\n",
    "a1 = complex(0.8, 0.2)  # coefficient for |0> state of qubit A\n",
    "a2 = complex(0.6, -0.4)  # coefficient for |1> state of qubit A\n",
    "b1 = complex(0.9, 0.3)  # coefficient for |0> state of qubit B\n",
    "b2 = complex(0.3, 0.1)  # coefficient for |1> state of qubit B\n",
    "\n",
    "# Define the states of qubit A and qubit B as column vectors\n",
    "psi = np.array([[a1], [a2]])  # State of qubit A\n",
    "phi = np.array([[b1], [b2]])  # State of qubit B\n",
    "\n",
    "# Compute the tensor product of the states\n",
    "tensor_product = np.kron(psi, phi)\n",
    "\n",
    "# Print the result\n",
    "print(\"Tensor product of |psi> and |phi> is:\")\n",
    "print(tensor_product)\n"
   ]
  },
  {
   "cell_type": "code",
   "execution_count": 8,
   "id": "2cf08ae4-1f36-4094-aaf0-7e13c267a4f7",
   "metadata": {},
   "outputs": [
    {
     "name": "stdout",
     "output_type": "stream",
     "text": [
      "     ┌───┐\n",
      "q_0: ┤ H ├\n",
      "     ├───┤\n",
      "q_1: ┤ X ├\n",
      "     └───┘\n",
      "Statevector([0.        +0.j, 0.        +0.j, 0.70710678+0.j,\n",
      "             0.70710678+0.j],\n",
      "            dims=(2, 2))\n"
     ]
    }
   ],
   "source": [
    "from qiskit import QuantumCircuit\n",
    "from qiskit.quantum_info import Statevector\n",
    "from qiskit.visualization import plot_bloch_multivector\n",
    "from qiskit_aer import AerSimulator\n",
    "\n",
    "\n",
    "# Create a Quantum Circuit\n",
    "qc = QuantumCircuit(2)\n",
    "\n",
    "# Apply Hadamard gate on qubit 0\n",
    "qc.h(0)\n",
    "\n",
    "# Apply X gate on qubit 1\n",
    "qc.x(1)\n",
    "\n",
    "simulator = AerSimulator()\n",
    "# Simulate the circuit\n",
    "job = simulator.run(qc, shots=100)\n",
    "\n",
    "# Get the result\n",
    "result = job.result()\n",
    "\n",
    "# Visualize the circuit\n",
    "print(qc)\n",
    "\n",
    "state = Statevector(qc)\n",
    "print(state)\n",
    "\n"
   ]
  },
  {
   "cell_type": "code",
   "execution_count": 3,
   "id": "3e2171d3-be1f-4a0e-b023-403e79828f23",
   "metadata": {},
   "outputs": [
    {
     "name": "stdout",
     "output_type": "stream",
     "text": [
      "Final Quantum State:\n",
      "[0.70710678 0.         0.70710678 0.        ]\n"
     ]
    }
   ],
   "source": [
    "import numpy as np\n",
    "\n",
    "# Define quantum states\n",
    "q0_state = np.array([1, 0])  # |0⟩\n",
    "q1_state = np.array([0, 1])  # |1⟩\n",
    "\n",
    "# Apply Hadamard gate on qubit 0\n",
    "H_gate = np.array([[1/np.sqrt(2), 1/np.sqrt(2)],\n",
    "                   [1/np.sqrt(2), -1/np.sqrt(2)]])\n",
    "q0_after_H = np.dot(H_gate, q0_state)\n",
    "\n",
    "# Apply X gate on qubit 1\n",
    "X_gate = np.array([[0, 1],\n",
    "                   [1, 0]])\n",
    "q1_after_X = np.dot(X_gate, q1_state)\n",
    "\n",
    "# Compute the tensor product of the quantum states after the operations\n",
    "final_state = np.kron(q0_after_H, q1_after_X)\n",
    "\n",
    "print(\"Final Quantum State:\")\n",
    "print(final_state)\n"
   ]
  },
  {
   "cell_type": "code",
   "execution_count": null,
   "id": "d37f9101-7407-4933-b26b-00b1bbde9b53",
   "metadata": {},
   "outputs": [],
   "source": []
  }
 ],
 "metadata": {
  "kernelspec": {
   "display_name": "Python 3 (ipykernel)",
   "language": "python",
   "name": "python3"
  },
  "language_info": {
   "codemirror_mode": {
    "name": "ipython",
    "version": 3
   },
   "file_extension": ".py",
   "mimetype": "text/x-python",
   "name": "python",
   "nbconvert_exporter": "python",
   "pygments_lexer": "ipython3",
   "version": "3.12.3"
  }
 },
 "nbformat": 4,
 "nbformat_minor": 5
}
